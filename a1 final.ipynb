{
 "cells": [
  {
   "cell_type": "code",
   "execution_count": null,
   "metadata": {},
   "outputs": [],
   "source": []
  },
  {
   "cell_type": "code",
   "execution_count": 1,
   "metadata": {},
   "outputs": [
    {
     "name": "stderr",
     "output_type": "stream",
     "text": [
      "2024-11-09 17:27:54.066216: I tensorflow/core/util/port.cc:153] oneDNN custom operations are on. You may see slightly different numerical results due to floating-point round-off errors from different computation orders. To turn them off, set the environment variable `TF_ENABLE_ONEDNN_OPTS=0`.\n",
      "2024-11-09 17:27:54.073861: E external/local_xla/xla/stream_executor/cuda/cuda_fft.cc:477] Unable to register cuFFT factory: Attempting to register factory for plugin cuFFT when one has already been registered\n",
      "WARNING: All log messages before absl::InitializeLog() is called are written to STDERR\n",
      "E0000 00:00:1731169674.082367 2687818 cuda_dnn.cc:8310] Unable to register cuDNN factory: Attempting to register factory for plugin cuDNN when one has already been registered\n",
      "E0000 00:00:1731169674.085078 2687818 cuda_blas.cc:1418] Unable to register cuBLAS factory: Attempting to register factory for plugin cuBLAS when one has already been registered\n",
      "2024-11-09 17:27:54.094255: I tensorflow/core/platform/cpu_feature_guard.cc:210] This TensorFlow binary is optimized to use available CPU instructions in performance-critical operations.\n",
      "To enable the following instructions: AVX2 AVX_VNNI FMA, in other operations, rebuild TensorFlow with the appropriate compiler flags.\n"
     ]
    }
   ],
   "source": [
    "from accelerate import Accelerator\n",
    "from datasets import Dataset, DatasetDict\n",
    "import csv\n",
    "import evaluate\n",
    "#from huggingface_hub import Repository, get_full_repo_name, create_repo\n",
    "import matplotlib.pyplot as plt\n",
    "import matplotlib.patches as mpatches\n",
    "import numpy as np\n",
    "import pandas as pd\n",
    "import seaborn as sns\n",
    "from sklearn.metrics import classification_report\n",
    "import torch\n",
    "from torch.optim import AdamW\n",
    "from torch.utils.data import DataLoader\n",
    "from transformers import AutoModelForTokenClassification\n",
    "from transformers import AutoTokenizer\n",
    "from transformers import DataCollatorForTokenClassification\n",
    "from transformers import get_scheduler\n",
    "from transformers import TrainingArguments\n",
    "from transformers import Trainer\n",
    "from tqdm.auto import tqdm\n"
   ]
  },
  {
   "cell_type": "code",
   "execution_count": 2,
   "metadata": {},
   "outputs": [
    {
     "name": "stdout",
     "output_type": "stream",
     "text": [
      "Num GPUs Available: 1\n",
      "1 Physical GPUs, 1 Logical GPUs\n"
     ]
    },
    {
     "name": "stderr",
     "output_type": "stream",
     "text": [
      "I0000 00:00:1731169686.600718 2687818 gpu_device.cc:2022] Created device /job:localhost/replica:0/task:0/device:GPU:0 with 6223 MB memory:  -> device: 0, name: NVIDIA GeForce RTX 4060, pci bus id: 0000:01:00.0, compute capability: 8.9\n"
     ]
    }
   ],
   "source": [
    "\n",
    "import tensorflow as tf\n",
    "\n",
    "gpus = tf.config.list_physical_devices('GPU')\n",
    "print(\"Num GPUs Available:\", len(gpus))\n",
    "\n",
    "if gpus:\n",
    "    try:\n",
    "        # Enable memory growth for each GPU to prevent TensorFlow from allocating all GPU memory at once\n",
    "        for gpu in gpus:\n",
    "            tf.config.experimental.set_memory_growth(gpu, True)\n",
    "        logical_gpus = tf.config.list_logical_devices('GPU')\n",
    "        print(len(gpus), \"Physical GPUs,\", len(logical_gpus), \"Logical GPUs\")\n",
    "    except RuntimeError as e:\n",
    "        print(\"Error setting memory growth:\", e)\n",
    "else:\n",
    "    print(\"No GPU detected. Using CPU.\")\n",
    "\n"
   ]
  },
  {
   "cell_type": "markdown",
   "metadata": {},
   "source": [
    "## Helper functions and declarations"
   ]
  },
  {
   "cell_type": "code",
   "execution_count": 59,
   "metadata": {},
   "outputs": [],
   "source": [
    "label_names = ['O', 'B-ART','I-ART','B-CON','I-CON','B-LOC','I-LOC',\n",
    "        'B-MAT','I-MAT','B-PER','I-PER','B-SPE','I-SPE']\n",
    "id2label = {i: l for i, l in enumerate(label_names)}\n",
    "label2id = {l: i for i, l in id2label.items()}\n",
    "\n",
    "model_name = \"bert-finetuned-archeology\"\n",
    "base_model_checkpoint = \"bert-base-cased\""
   ]
  },
  {
   "cell_type": "code",
   "execution_count": 60,
   "metadata": {},
   "outputs": [],
   "source": [
    "def align_labels_with_tokens(labels, word_ids):\n",
    "    new_labels = []\n",
    "    current_word = None\n",
    "    for word_id in word_ids:\n",
    "        if word_id != current_word:\n",
    "            # Start of a new word!\n",
    "            current_word = word_id\n",
    "            label = -100 if word_id is None else labels[word_id]\n",
    "            new_labels.append(label)\n",
    "        elif word_id is None:\n",
    "            # Special token\n",
    "            new_labels.append(-100)\n",
    "        else:\n",
    "            # Same word as previous token\n",
    "            label = labels[word_id]\n",
    "            # If the label is B-XXX we change it to I-XXX\n",
    "            if label % 2 == 1:\n",
    "                label += 1\n",
    "            new_labels.append(label)\n",
    "\n",
    "    return new_labels\n",
    "\n",
    "\n",
    "def tokenize_and_align_labels(examples):\n",
    "    tokenized_inputs = tokenizer(\n",
    "        examples['tokens'], truncation=True, is_split_into_words=True\n",
    "    )\n",
    "    all_labels = examples['ner_tags']\n",
    "    new_labels = []\n",
    "    for i, labels in enumerate(all_labels):\n",
    "        word_ids = tokenized_inputs.word_ids(i)\n",
    "        new_labels.append(align_labels_with_tokens(labels, word_ids))\n",
    "    \n",
    "    tokenized_inputs['labels'] = new_labels\n",
    "    return tokenized_inputs\n",
    "\n",
    "\n",
    "def compute_metrics(eval_preds):\n",
    "    logits, labels = eval_preds\n",
    "    predictions = np.argmax(logits, axis=-1)\n",
    "\n",
    "    # Remove ignored index (special tokens) and convert to labels\n",
    "    true_labels = [[label_names[l] for l in label if l != -100] for label in labels]\n",
    "    true_predictions = [\n",
    "        [label_names[p] for (p, l) in zip(prediction, label) if l != -100]\n",
    "        for prediction, label in zip(predictions, labels)\n",
    "    ]\n",
    "    all_metrics = metric.compute(predictions=true_predictions, references=true_labels)\n",
    "    return {\n",
    "        \"precision\": all_metrics[\"overall_precision\"],\n",
    "        \"recall\": all_metrics[\"overall_recall\"],\n",
    "        \"f1\": all_metrics[\"overall_f1\"],\n",
    "        \"accuracy\": all_metrics[\"overall_accuracy\"],\n",
    "    }\n",
    "\n",
    "\n",
    "def parse(sentence):\n",
    "    tokens, ner_tags = [], []\n",
    "    for phrase in sentence:\n",
    "            features = phrase.split(' ')\n",
    "            tokens.append(features[0].strip())\n",
    "            ner_tags.append(label2id[features[2].strip()])\n",
    "    return {'tokens': tokens, 'ner_tags': ner_tags}\n",
    "\n",
    "\n",
    "def postprocess(predictions, labels):\n",
    "    predictions = predictions.detach().cpu().clone().numpy()\n",
    "    labels = labels.detach().cpu().clone().numpy()\n",
    "\n",
    "    # Remove ignored index (special tokens) and convert to labels\n",
    "    true_labels = [[label_names[l] for l in label if l != -100] for label in labels]\n",
    "    true_predictions = [\n",
    "        [label_names[p] for (p, l) in zip(prediction, label) if l != -100]\n",
    "        for prediction, label in zip(predictions, labels)\n",
    "    ]\n",
    "    return true_labels, true_predictions"
   ]
  },
  {
   "cell_type": "markdown",
   "metadata": {},
   "source": [
    "## Data Loading"
   ]
  },
  {
   "cell_type": "code",
   "execution_count": 61,
   "metadata": {},
   "outputs": [],
   "source": [
    "raw_datasets = {}\n",
    "for split in ('train', 'val', 'test'):\n",
    "    raw_datasets[split] = {}\n",
    "    with open(f'{split}.txt', 'r') as infile:\n",
    "        raw_data = infile.read()\n",
    "        lines = raw_data.split('\\n')\n",
    "        sentences = raw_data.split('\\n\\n')\n",
    "        sentences = [parse(sentence.split('\\n')) for sentence in sentences]\n",
    "        for sentence in sentences:\n",
    "            for k in sentence:\n",
    "                if k not in raw_datasets[split].keys():\n",
    "                    raw_datasets[split][k] = []\n",
    "                raw_datasets[split][k].append(sentence[k])\n",
    "\n",
    "\n",
    "datasets = {}\n",
    "for split in raw_datasets.keys():\n",
    "    datasets[split] = Dataset.from_dict(raw_datasets[split])\n",
    "data = DatasetDict(datasets)"
   ]
  },
  {
   "cell_type": "markdown",
   "metadata": {},
   "source": [
    "### Data statistics"
   ]
  },
  {
   "cell_type": "markdown",
   "metadata": {},
   "source": [
    "#### NER label distribution"
   ]
  },
  {
   "cell_type": "code",
   "execution_count": 20,
   "metadata": {},
   "outputs": [],
   "source": [
    "ner = data['train']['ner_tags']\n",
    "ner += data['test']['ner_tags']\n",
    "ner += data['val']['ner_tags']\n",
    "ner = np.array([tag for taglist in ner for tag in taglist])"
   ]
  },
  {
   "cell_type": "code",
   "execution_count": 21,
   "metadata": {},
   "outputs": [],
   "source": [
    "ner_df = pd.DataFrame(ner, columns=['ner_tag'])\n",
    "ner_df['ner_label'] = ner_df['ner_tag'].map(id2label)\n",
    "ner_df.loc[ner_df['ner_label'] != 'O','ner_label_grouped'] = \\\n",
    "    ner_df.loc[ner_df['ner_label'] != 'O','ner_label'].apply(\n",
    "        lambda x: x.split('-')[1])\n",
    "ner_df['ner_label_grouped'] = ner_df['ner_label_grouped'].fillna('O')\n",
    "ner_df_counts = ner_df.groupby(\n",
    "    ['ner_label_grouped', 'ner_label']\n",
    ")['ner_label'].count().to_frame().drop('O')\n",
    "ner_df_counts.columns = ['counts']"
   ]
  },
  {
   "cell_type": "code",
   "execution_count": 22,
   "metadata": {},
   "outputs": [],
   "source": [
    "ner_distribution = ner_df.groupby(['ner_label_grouped', 'ner_label'])['ner_label'].count().to_frame()\n",
    "ner_distribution.columns = ['counts']\n",
    "ner_distribution = ner_distribution.reset_index()"
   ]
  },
  {
   "cell_type": "code",
   "execution_count": 23,
   "metadata": {},
   "outputs": [
    {
     "data": {
      "image/png": "[encoded data removed]",
      "text/plain": [
       "<Figure size 640x480 with 1 Axes>"
      ]
     },
     "metadata": {},
     "output_type": "display_data"
    }
   ],
   "source": [
    "bottom_df = ner_distribution.loc[ner_distribution['ner_label'].str.startswith('B')]\n",
    "\n",
    "fig, ax = plt.subplots()\n",
    "ax.grid(axis='y', zorder=2)\n",
    "sns.barplot(data=ner_distribution, x='ner_label_grouped', y='counts',\n",
    "            estimator=sum, ax=ax, color='#fad487', errorbar=None, zorder=3)\n",
    "sns.barplot(data=bottom_df, x='ner_label_grouped', y='counts', ax=ax,\n",
    "            color='#ffbc05', zorder=3)\n",
    "top_bar = mpatches.Patch(color='#fad487', label='B- labels')\n",
    "bottom_bar = mpatches.Patch(color='#ffbc05', label='I- labels')\n",
    "plt.legend(handles=[top_bar, bottom_bar])\n",
    "ax.set_yscale('log')\n",
    "sns.despine()\n",
    "ax.set(title='Distribution of NER labels in the datasets',\n",
    "       xlabel='NER label', ylabel='Count')\n",
    "plt.show()"
   ]
  },
  {
   "cell_type": "code",
   "execution_count": 24,
   "metadata": {},
   "outputs": [
    {
     "data": {
      "image/png": "[encoded data removed]",
      "text/plain": [
       "<Figure size 600x600 with 1 Axes>"
      ]
     },
     "metadata": {},
     "output_type": "display_data"
    }
   ],
   "source": [
    "fig, ax = plt.subplots(figsize=(6, 6))\n",
    "cmap = plt.colormaps[\"tab20\"]\n",
    "size=0.3\n",
    "outer_colors = cmap(np.arange(6)*2)\n",
    "inner_colors = cmap(np.arange(12))\n",
    "textprops = {'color': 'k'}\n",
    "startangle = 0\n",
    "\n",
    "outer_labels = ner_df_counts.index.get_level_values(0).drop_duplicates()\n",
    "wedges, texts = ax.pie(\n",
    "    ner_df_counts.groupby(level=[0]).sum().values.flatten(),\n",
    "    labels=outer_labels,\n",
    "    radius=1, colors=outer_colors,\n",
    "    wedgeprops=dict(width=size, edgecolor='w'),\n",
    "    labeldistance=1.05,\n",
    "    rotatelabels=True,\n",
    "    textprops=textprops,\n",
    "    startangle=startangle)\n",
    "\n",
    "inner_labels = [i.split('-')[0] \n",
    "                for i in ner_df_counts.index.get_level_values(1).to_list()]\n",
    "\n",
    "inner_labels[-2:] = [''] * 2\n",
    "inner_labels[6:8] = [''] * 2\n",
    "ax.pie(ner_df_counts.values.flatten(),\n",
    "       labels=inner_labels,\n",
    "       radius=1-size, colors=inner_colors,\n",
    "       wedgeprops=dict(width=size, edgecolor='w'),\n",
    "       labeldistance=0.75,\n",
    "       textprops=textprops,\n",
    "       startangle=startangle)\n",
    "\n",
    "ax.set_title('Distribution of NER labels in the datasets.')\n",
    "plt.show()"
   ]
  },
  {
   "cell_type": "markdown",
   "metadata": {},
   "source": [
    "## Preprocessing"
   ]
  },
  {
   "cell_type": "code",
   "execution_count": 62,
   "metadata": {},
   "outputs": [
    {
     "data": {
      "application/vnd.jupyter.widget-view+json": {
       "model_id": "86bfbe45b707474a9e680c7c3267e525",
       "version_major": 2,
       "version_minor": 0
      },
      "text/plain": [
       "Map:   0%|          | 0/1992 [00:00<?, ? examples/s]"
      ]
     },
     "metadata": {},
     "output_type": "display_data"
    },
    {
     "data": {
      "application/vnd.jupyter.widget-view+json": {
       "model_id": "c1ba15ea3d9a454a8050491ff5fd823a",
       "version_major": 2,
       "version_minor": 0
      },
      "text/plain": [
       "Map:   0%|          | 0/850 [00:00<?, ? examples/s]"
      ]
     },
     "metadata": {},
     "output_type": "display_data"
    },
    {
     "data": {
      "application/vnd.jupyter.widget-view+json": {
       "model_id": "1e2786d7d2c64fdd844ea20d2a1ac6c8",
       "version_major": 2,
       "version_minor": 0
      },
      "text/plain": [
       "Map:   0%|          | 0/864 [00:00<?, ? examples/s]"
      ]
     },
     "metadata": {},
     "output_type": "display_data"
    }
   ],
   "source": [
    "tokenizer = AutoTokenizer.from_pretrained(base_model_checkpoint)\n",
    "\n",
    "data_tokenized = data.map(\n",
    "    tokenize_and_align_labels,\n",
    "    batched=True,\n",
    "    remove_columns=data['train'].column_names)"
   ]
  },
  {
   "cell_type": "markdown",
   "metadata": {},
   "source": [
    "## Training - Fine tunning with default hyperparameters"
   ]
  },
  {
   "cell_type": "markdown",
   "metadata": {},
   "source": [
    "### Training set-up"
   ]
  },
  {
   "cell_type": "code",
   "execution_count": 63,
   "metadata": {},
   "outputs": [
    {
     "name": "stderr",
     "output_type": "stream",
     "text": [
      "Some weights of BertForTokenClassification were not initialized from the model checkpoint at bert-base-cased and are newly initialized: ['classifier.bias', 'classifier.weight']\n",
      "You should probably TRAIN this model on a down-stream task to be able to use it for predictions and inference.\n"
     ]
    }
   ],
   "source": [
    "data_collator = DataCollatorForTokenClassification(tokenizer)\n",
    "metric = evaluate.load('seqeval')\n",
    "\n",
    "model = AutoModelForTokenClassification.from_pretrained(\n",
    "    base_model_checkpoint,\n",
    "    id2label=id2label,\n",
    "    label2id=label2id,\n",
    ")\n",
    "\n",
    "args = TrainingArguments(\n",
    "    model_name,\n",
    "    eval_strategy=\"epoch\",\n",
    "    save_strategy=\"epoch\",\n",
    "    learning_rate=2e-5,\n",
    "    num_train_epochs=3,\n",
    "    weight_decay=0.01,\n",
    "    #push_to_hub=True,\n",
    ")\n",
    "\n",
    "trainer = Trainer(\n",
    "    model=model,\n",
    "    args=args,\n",
    "    train_dataset=data_tokenized[\"train\"],\n",
    "    eval_dataset=data_tokenized[\"val\"],\n",
    "    data_collator=data_collator,\n",
    "    compute_metrics=compute_metrics,\n",
    "    processing_class=tokenizer,\n",
    ")"
   ]
  },
  {
   "cell_type": "markdown",
   "metadata": {},
   "source": [
    "### Training loop"
   ]
  },
  {
   "cell_type": "code",
   "execution_count": 64,
   "metadata": {},
   "outputs": [
    {
     "data": {
      "text/html": [
       "\n",
       "    <div>\n",
       "      \n",
       "      <progress value='747' max='747' style='width:300px; height:20px; vertical-align: middle;'></progress>\n",
       "      [747/747 01:53, Epoch 3/3]\n",
       "    </div>\n",
       "    <table border=\"1\" class=\"dataframe\">\n",
       "  <thead>\n",
       " <tr style=\"text-align: left;\">\n",
       "      <th>Epoch</th>\n",
       "      <th>Training Loss</th>\n",
       "      <th>Validation Loss</th>\n",
       "      <th>Precision</th>\n",
       "      <th>Recall</th>\n",
       "      <th>F1</th>\n",
       "      <th>Accuracy</th>\n",
       "    </tr>\n",
       "  </thead>\n",
       "  <tbody>\n",
       "    <tr>\n",
       "      <td>1</td>\n",
       "      <td>No log</td>\n",
       "      <td>0.213042</td>\n",
       "      <td>0.467464</td>\n",
       "      <td>0.643004</td>\n",
       "      <td>0.541360</td>\n",
       "      <td>0.942698</td>\n",
       "    </tr>\n",
       "    <tr>\n",
       "      <td>2</td>\n",
       "      <td>No log</td>\n",
       "      <td>0.212484</td>\n",
       "      <td>0.529215</td>\n",
       "      <td>0.652263</td>\n",
       "      <td>0.584332</td>\n",
       "      <td>0.948803</td>\n",
       "    </tr>\n",
       "    <tr>\n",
       "      <td>3</td>\n",
       "      <td>0.188400</td>\n",
       "      <td>0.224858</td>\n",
       "      <td>0.504580</td>\n",
       "      <td>0.680041</td>\n",
       "      <td>0.579316</td>\n",
       "      <td>0.946492</td>\n",
       "    </tr>\n",
       "  </tbody>\n",
       "</table><p>"
      ],
      "text/plain": [
       "<IPython.core.display.HTML object>"
      ]
     },
     "metadata": {},
     "output_type": "display_data"
    },
    {
     "name": "stderr",
     "output_type": "stream",
     "text": [
      "/vol/home/s4422090/.local/lib/python3.12/site-packages/seqeval/metrics/v1.py:57: UndefinedMetricWarning: Precision and F-score are ill-defined and being set to 0.0 in labels with no predicted samples. Use `zero_division` parameter to control this behavior.\n",
      "  _warn_prf(average, modifier, msg_start, len(result))\n"
     ]
    },
    {
     "data": {
      "text/plain": [
       "TrainOutput(global_step=747, training_loss=0.14538072869480853, metrics={'train_runtime': 113.5937, 'train_samples_per_second': 52.609, 'train_steps_per_second': 6.576, 'total_flos': 200646868443840.0, 'train_loss': 0.14538072869480853, 'epoch': 3.0})"
      ]
     },
     "execution_count": 64,
     "metadata": {},
     "output_type": "execute_result"
    }
   ],
   "source": [
    "trainer.train()\n",
    "#trainer.push_to_hub(commit_message=\"Training complete\") "
   ]
  },
  {
   "cell_type": "markdown",
   "metadata": {},
   "source": [
    "## Evaluate on test set"
   ]
  },
  {
   "cell_type": "code",
   "execution_count": 55,
   "metadata": {},
   "outputs": [
    {
     "data": {
      "text/html": [
       "\n",
       "    <div>\n",
       "      \n",
       "      <progress value='3' max='54' style='width:300px; height:20px; vertical-align: middle;'></progress>\n",
       "      [ 3/54 00:00 < 00:01, 38.39 it/s]\n",
       "    </div>\n",
       "    "
      ],
      "text/plain": [
       "<IPython.core.display.HTML object>"
      ]
     },
     "metadata": {},
     "output_type": "display_data"
    },
    {
     "name": "stdout",
     "output_type": "stream",
     "text": [
      "Precision on Test Set: 0.5971\n",
      "Recall on Test Set: 0.7198\n",
      "F1 Score on Test Set: 0.6527\n"
     ]
    }
   ],
   "source": [
    "# Evaluate on the test set\n",
    "test_results = trainer.predict(data_tokenized[\"test\"])\n",
    "test_predictions, test_labels, _ = test_results\n",
    "\n",
    "test_predictions = np.argmax(test_predictions, axis=2)\n",
    "\n",
    "true_test_predictions = [\n",
    "    [id2label[pred] for (pred, lab) in zip(prediction, label) if lab != -100]\n",
    "    for prediction, label in zip(test_predictions, test_labels)\n",
    "]\n",
    "true_test_labels = [\n",
    "    [id2label[lab] for (pred, lab) in zip(prediction, label) if lab != -100]\n",
    "    for label, prediction in zip(test_labels, test_predictions)\n",
    "]\n",
    "\n",
    "results = metric.compute(predictions=true_test_predictions, references=true_test_labels)\n",
    "\n",
    "precision = results[\"overall_precision\"]\n",
    "recall = results[\"overall_recall\"]\n",
    "f1 = results[\"overall_f1\"]\n",
    "\n",
    "print(f\"Precision on Test Set: {precision:.4f}\")\n",
    "print(f\"Recall on Test Set: {recall:.4f}\")\n",
    "print(f\"F1 Score on Test Set: {f1:.4f}\")"
   ]
  },
  {
   "cell_type": "markdown",
   "metadata": {},
   "source": [
    "## Hyperparameter optimization"
   ]
  },
  {
   "cell_type": "markdown",
   "metadata": {},
   "source": [
    "Plan for hyperparameter optimization (grid search approach):\n",
    "\n",
    "1. `learning_rate`: `[2e-5, 1e-4, 1e-2]`\n",
    "1. `weight_decay`: `[0.0, 0.1, 0.01]`\n",
    "1. `batch_size`: `[8, 16]`\n",
    "1. `warm_up`: `[0,100,500]`\n"
   ]
  },
  {
   "cell_type": "code",
   "execution_count": null,
   "metadata": {},
   "outputs": [],
   "source": [
    "model_checkpoint = 'bert-base-cased'\n",
    "num_train_epochs = 3\n"
   ]
  },
  {
   "cell_type": "code",
   "execution_count": 14,
   "metadata": {},
   "outputs": [],
   "source": [
    "params_list = [{'lr': lr, 'wd': wd, 'batch_size': batch_size, 'warm_up': warm_up}\n",
    "               for lr in (2e-5, 1e-4, 1e-2)\n",
    "               for wd in (0.0, 0.1, 0.01)\n",
    "               for batch_size in (16, 8)\n",
    "               for warm_up in (0, 100, 500)]"
   ]
  },
  {
   "cell_type": "code",
   "execution_count": 10,
   "metadata": {},
   "outputs": [],
   "source": [
    "data_collator = DataCollatorForTokenClassification(tokenizer)\n",
    "best_model_dir = 'bert-finetuned-archeology-optimized'\n",
    "#repo_name = get_full_repo_name(best_model_dir)\n",
    "#repo = Repository(best_model_dir, clone_from=repo_name)\n",
    "#repo_name"
   ]
  },
  {
   "cell_type": "code",
   "execution_count": 15,
   "metadata": {},
   "outputs": [
    {
     "name": "stdout",
     "output_type": "stream",
     "text": [
      "Total Hyperparameter Configurations to Test: 54\n",
      "\n",
      "Running configuration 1 / 54: [lr=2e-05; wd=0.0; batch_size=16; warm_up=0]\n"
     ]
    },
    {
     "data": {
      "application/vnd.jupyter.widget-view+json": {
       "model_id": "94c670be7b6748abb38d351fd5c79903",
       "version_major": 2,
       "version_minor": 0
      },
      "text/plain": [
       "  0%|          | 0/373 [00:00<?, ?it/s]"
      ]
     },
     "metadata": {},
     "output_type": "display_data"
    },
    {
     "name": "stderr",
     "output_type": "stream",
     "text": [
      "Some weights of BertForTokenClassification were not initialized from the model checkpoint at bert-base-cased and are newly initialized: ['classifier.bias', 'classifier.weight']\n",
      "You should probably TRAIN this model on a down-stream task to be able to use it for predictions and inference.\n",
      "/vol/home/s4422090/.local/lib/python3.12/site-packages/seqeval/metrics/v1.py:57: UndefinedMetricWarning: Recall and F-score are ill-defined and being set to 0.0 in labels with no true samples. Use `zero_division` parameter to control this behavior.\n",
      "  _warn_prf(average, modifier, msg_start, len(result))\n"
     ]
    },
    {
     "name": "stdout",
     "output_type": "stream",
     "text": [
      "epoch 0: {'precision': np.float64(0.5648148148148148), 'recall': np.float64(0.34746835443037977), 'f1': np.float64(0.43025078369905956), 'accuracy': 0.927041995551873}\n",
      "epoch 1: {'precision': np.float64(0.6039094650205762), 'recall': np.float64(0.48075348075348073), 'f1': np.float64(0.5353397172822618), 'accuracy': 0.942959312720771}\n",
      "epoch 2: {'precision': np.float64(0.6481481481481481), 'recall': np.float64(0.4656319290465632), 'f1': np.float64(0.5419354838709677), 'accuracy': 0.9424796127512973}\n",
      "Running configuration 2 / 54: [lr=2e-05; wd=0.0; batch_size=16; warm_up=100]\n"
     ]
    },
    {
     "data": {
      "application/vnd.jupyter.widget-view+json": {
       "model_id": "774f6851a42b4ef3820ea09a57c026e3",
       "version_major": 2,
       "version_minor": 0
      },
      "text/plain": [
       "  0%|          | 0/373 [00:00<?, ?it/s]"
      ]
     },
     "metadata": {},
     "output_type": "display_data"
    },
    {
     "name": "stderr",
     "output_type": "stream",
     "text": [
      "Some weights of BertForTokenClassification were not initialized from the model checkpoint at bert-base-cased and are newly initialized: ['classifier.bias', 'classifier.weight']\n",
      "You should probably TRAIN this model on a down-stream task to be able to use it for predictions and inference.\n"
     ]
    },
    {
     "name": "stdout",
     "output_type": "stream",
     "text": [
      "epoch 0: {'precision': np.float64(0.27469135802469136), 'recall': np.float64(0.38197424892703863), 'f1': np.float64(0.3195691202872531), 'accuracy': 0.92569011381972}\n",
      "epoch 1: {'precision': np.float64(0.6008230452674898), 'recall': np.float64(0.43745318352059925), 'f1': np.float64(0.506285218899003), 'accuracy': 0.9368104312938816}\n",
      "epoch 2: {'precision': np.float64(0.6707818930041153), 'recall': np.float64(0.4607773851590106), 'f1': np.float64(0.5462924172601592), 'accuracy': 0.939078103876848}\n",
      "Running configuration 3 / 54: [lr=2e-05; wd=0.0; batch_size=16; warm_up=500]\n"
     ]
    },
    {
     "data": {
      "application/vnd.jupyter.widget-view+json": {
       "model_id": "471de66b8e7045fd8421111029c5027c",
       "version_major": 2,
       "version_minor": 0
      },
      "text/plain": [
       "  0%|          | 0/373 [00:00<?, ?it/s]"
      ]
     },
     "metadata": {},
     "output_type": "display_data"
    },
    {
     "name": "stderr",
     "output_type": "stream",
     "text": [
      "Some weights of BertForTokenClassification were not initialized from the model checkpoint at bert-base-cased and are newly initialized: ['classifier.bias', 'classifier.weight']\n",
      "You should probably TRAIN this model on a down-stream task to be able to use it for predictions and inference.\n"
     ]
    },
    {
     "name": "stdout",
     "output_type": "stream",
     "text": [
      "epoch 0: {'precision': np.float64(0.0), 'recall': np.float64(0.0), 'f1': np.float64(0.0), 'accuracy': 0.9028825607256552}\n",
      "epoch 1: {'precision': np.float64(0.2962962962962963), 'recall': np.float64(0.3333333333333333), 'f1': np.float64(0.3137254901960785), 'accuracy': 0.9226374776503423}\n",
      "epoch 2: {'precision': np.float64(0.6100823045267489), 'recall': np.float64(0.39038841342988806), 'f1': np.float64(0.47611401043757523), 'accuracy': 0.9299638044568488}\n",
      "Running configuration 4 / 54: [lr=2e-05; wd=0.0; batch_size=8; warm_up=0]\n"
     ]
    },
    {
     "data": {
      "application/vnd.jupyter.widget-view+json": {
       "model_id": "e9cd2aa57ade4823a6cfeaff8d92ab55",
       "version_major": 2,
       "version_minor": 0
      },
      "text/plain": [
       "  0%|          | 0/747 [00:00<?, ?it/s]"
      ]
     },
     "metadata": {},
     "output_type": "display_data"
    },
    {
     "name": "stderr",
     "output_type": "stream",
     "text": [
      "Some weights of BertForTokenClassification were not initialized from the model checkpoint at bert-base-cased and are newly initialized: ['classifier.bias', 'classifier.weight']\n",
      "You should probably TRAIN this model on a down-stream task to be able to use it for predictions and inference.\n"
     ]
    },
    {
     "name": "stdout",
     "output_type": "stream",
     "text": [
      "epoch 0: {'precision': np.float64(0.6347736625514403), 'recall': np.float64(0.4474256707759246), 'f1': np.float64(0.5248830284985112), 'accuracy': 0.9399502856395273}\n",
      "epoch 1: {'precision': np.float64(0.6666666666666666), 'recall': np.float64(0.5264012997562957), 'f1': np.float64(0.5882886972310486), 'accuracy': 0.9493698486764641}\n",
      "epoch 2: {'precision': np.float64(0.6779835390946503), 'recall': np.float64(0.4936329588014981), 'f1': np.float64(0.5713047247507586), 'accuracy': 0.9453142034800053}\n",
      "Running configuration 5 / 54: [lr=2e-05; wd=0.0; batch_size=8; warm_up=100]\n"
     ]
    },
    {
     "data": {
      "application/vnd.jupyter.widget-view+json": {
       "model_id": "abbddac0b1384d62bbbec96eee288b2c",
       "version_major": 2,
       "version_minor": 0
      },
      "text/plain": [
       "  0%|          | 0/747 [00:00<?, ?it/s]"
      ]
     },
     "metadata": {},
     "output_type": "display_data"
    },
    {
     "name": "stderr",
     "output_type": "stream",
     "text": [
      "Some weights of BertForTokenClassification were not initialized from the model checkpoint at bert-base-cased and are newly initialized: ['classifier.bias', 'classifier.weight']\n",
      "You should probably TRAIN this model on a down-stream task to be able to use it for predictions and inference.\n"
     ]
    },
    {
     "name": "stdout",
     "output_type": "stream",
     "text": [
      "epoch 0: {'precision': np.float64(0.6172839506172839), 'recall': np.float64(0.4618937644341801), 'f1': np.float64(0.5284015852047556), 'accuracy': 0.9408660764903406}\n",
      "epoch 1: {'precision': np.float64(0.6625514403292181), 'recall': np.float64(0.4697301239970824), 'f1': np.float64(0.549722577891592), 'accuracy': 0.9423051763987615}\n",
      "epoch 2: {'precision': np.float64(0.6800411522633745), 'recall': np.float64(0.47933284989122554), 'f1': np.float64(0.5623139089749043), 'accuracy': 0.9423923945750294}\n",
      "Running configuration 6 / 54: [lr=2e-05; wd=0.0; batch_size=8; warm_up=500]\n"
     ]
    },
    {
     "data": {
      "application/vnd.jupyter.widget-view+json": {
       "model_id": "77de21277edf426c8608147b3dad754e",
       "version_major": 2,
       "version_minor": 0
      },
      "text/plain": [
       "  0%|          | 0/747 [00:00<?, ?it/s]"
      ]
     },
     "metadata": {},
     "output_type": "display_data"
    },
    {
     "name": "stderr",
     "output_type": "stream",
     "text": [
      "Some weights of BertForTokenClassification were not initialized from the model checkpoint at bert-base-cased and are newly initialized: ['classifier.bias', 'classifier.weight']\n",
      "You should probably TRAIN this model on a down-stream task to be able to use it for predictions and inference.\n"
     ]
    },
    {
     "name": "stdout",
     "output_type": "stream",
     "text": [
      "epoch 0: {'precision': np.float64(0.29732510288065844), 'recall': np.float64(0.3189845474613687), 'f1': np.float64(0.3077742279020234), 'accuracy': 0.9160088962539793}\n",
      "epoch 1: {'precision': np.float64(0.6635802469135802), 'recall': np.float64(0.40062111801242234), 'f1': np.float64(0.49961270333075136), 'accuracy': 0.9303562862500545}\n",
      "epoch 2: {'precision': np.float64(0.6697530864197531), 'recall': np.float64(0.4811529933481153), 'f1': np.float64(0.5599999999999999), 'accuracy': 0.942959312720771}\n",
      "Running configuration 7 / 54: [lr=2e-05; wd=0.1; batch_size=16; warm_up=0]\n"
     ]
    },
    {
     "data": {
      "application/vnd.jupyter.widget-view+json": {
       "model_id": "a64b9a454fad49efacffdcad10581b0d",
       "version_major": 2,
       "version_minor": 0
      },
      "text/plain": [
       "  0%|          | 0/373 [00:00<?, ?it/s]"
      ]
     },
     "metadata": {},
     "output_type": "display_data"
    },
    {
     "name": "stderr",
     "output_type": "stream",
     "text": [
      "Some weights of BertForTokenClassification were not initialized from the model checkpoint at bert-base-cased and are newly initialized: ['classifier.bias', 'classifier.weight']\n",
      "You should probably TRAIN this model on a down-stream task to be able to use it for predictions and inference.\n"
     ]
    },
    {
     "name": "stdout",
     "output_type": "stream",
     "text": [
      "epoch 0: {'precision': np.float64(0.5092592592592593), 'recall': np.float64(0.4114713216957606), 'f1': np.float64(0.4551724137931035), 'accuracy': 0.9314465134534037}\n",
      "epoch 1: {'precision': np.float64(0.6162551440329218), 'recall': np.float64(0.4404411764705882), 'f1': np.float64(0.5137221269296741), 'accuracy': 0.9371593039989534}\n",
      "epoch 2: {'precision': np.float64(0.6450617283950617), 'recall': np.float64(0.4523809523809524), 'f1': np.float64(0.5318066157760815), 'accuracy': 0.9397758492869914}\n",
      "Running configuration 8 / 54: [lr=2e-05; wd=0.1; batch_size=16; warm_up=100]\n"
     ]
    },
    {
     "data": {
      "application/vnd.jupyter.widget-view+json": {
       "model_id": "8627854c767e4dd580aa45b48dfcd36e",
       "version_major": 2,
       "version_minor": 0
      },
      "text/plain": [
       "  0%|          | 0/373 [00:00<?, ?it/s]"
      ]
     },
     "metadata": {},
     "output_type": "display_data"
    },
    {
     "name": "stderr",
     "output_type": "stream",
     "text": [
      "Some weights of BertForTokenClassification were not initialized from the model checkpoint at bert-base-cased and are newly initialized: ['classifier.bias', 'classifier.weight']\n",
      "You should probably TRAIN this model on a down-stream task to be able to use it for predictions and inference.\n"
     ]
    },
    {
     "name": "stdout",
     "output_type": "stream",
     "text": [
      "epoch 0: {'precision': np.float64(0.2654320987654321), 'recall': np.float64(0.3075089392133492), 'f1': np.float64(0.28492545554942017), 'accuracy': 0.9212419868300554}\n",
      "epoch 1: {'precision': np.float64(0.6275720164609053), 'recall': np.float64(0.449521002210759), 'f1': np.float64(0.5238299699441821), 'accuracy': 0.937639003968427}\n",
      "epoch 2: {'precision': np.float64(0.6594650205761317), 'recall': np.float64(0.4530035335689046), 'f1': np.float64(0.5370758273984081), 'accuracy': 0.9372465221752213}\n",
      "Running configuration 9 / 54: [lr=2e-05; wd=0.1; batch_size=16; warm_up=500]\n"
     ]
    },
    {
     "data": {
      "application/vnd.jupyter.widget-view+json": {
       "model_id": "26cb680d9da3408db8c76d3d59926414",
       "version_major": 2,
       "version_minor": 0
      },
      "text/plain": [
       "  0%|          | 0/373 [00:00<?, ?it/s]"
      ]
     },
     "metadata": {},
     "output_type": "display_data"
    },
    {
     "name": "stderr",
     "output_type": "stream",
     "text": [
      "Some weights of BertForTokenClassification were not initialized from the model checkpoint at bert-base-cased and are newly initialized: ['classifier.bias', 'classifier.weight']\n",
      "You should probably TRAIN this model on a down-stream task to be able to use it for predictions and inference.\n"
     ]
    },
    {
     "name": "stdout",
     "output_type": "stream",
     "text": [
      "epoch 0: {'precision': np.float64(0.0), 'recall': np.float64(0.0), 'f1': np.float64(0.0), 'accuracy': 0.9028825607256552}\n",
      "epoch 1: {'precision': np.float64(0.31069958847736623), 'recall': np.float64(0.326133909287257), 'f1': np.float64(0.3182297154899894), 'accuracy': 0.9206314595961799}\n",
      "epoch 2: {'precision': np.float64(0.6337448559670782), 'recall': np.float64(0.39819004524886875), 'f1': np.float64(0.4890829694323144), 'accuracy': 0.9301818498975186}\n",
      "Running configuration 10 / 54: [lr=2e-05; wd=0.1; batch_size=8; warm_up=0]\n"
     ]
    },
    {
     "data": {
      "application/vnd.jupyter.widget-view+json": {
       "model_id": "1ee6be9c95ea460a93f688d0ebd3dc50",
       "version_major": 2,
       "version_minor": 0
      },
      "text/plain": [
       "  0%|          | 0/747 [00:00<?, ?it/s]"
      ]
     },
     "metadata": {},
     "output_type": "display_data"
    },
    {
     "name": "stderr",
     "output_type": "stream",
     "text": [
      "Some weights of BertForTokenClassification were not initialized from the model checkpoint at bert-base-cased and are newly initialized: ['classifier.bias', 'classifier.weight']\n",
      "You should probably TRAIN this model on a down-stream task to be able to use it for predictions and inference.\n"
     ]
    },
    {
     "name": "stdout",
     "output_type": "stream",
     "text": [
      "epoch 0: {'precision': np.float64(0.6388888888888888), 'recall': np.float64(0.4268041237113402), 'f1': np.float64(0.511742892459827), 'accuracy': 0.9353713313854607}\n",
      "epoch 1: {'precision': np.float64(0.6522633744855967), 'recall': np.float64(0.453180843459614), 'f1': np.float64(0.5347954449599326), 'accuracy': 0.9380314857616328}\n",
      "epoch 2: {'precision': np.float64(0.6553497942386831), 'recall': np.float64(0.4789473684210526), 'f1': np.float64(0.5534317984361424), 'accuracy': 0.9430901399851729}\n",
      "Running configuration 11 / 54: [lr=2e-05; wd=0.1; batch_size=8; warm_up=100]\n"
     ]
    },
    {
     "data": {
      "application/vnd.jupyter.widget-view+json": {
       "model_id": "9b7119576fd54b0b9f8130cdc04f9101",
       "version_major": 2,
       "version_minor": 0
      },
      "text/plain": [
       "  0%|          | 0/747 [00:00<?, ?it/s]"
      ]
     },
     "metadata": {},
     "output_type": "display_data"
    },
    {
     "name": "stderr",
     "output_type": "stream",
     "text": [
      "Some weights of BertForTokenClassification were not initialized from the model checkpoint at bert-base-cased and are newly initialized: ['classifier.bias', 'classifier.weight']\n",
      "You should probably TRAIN this model on a down-stream task to be able to use it for predictions and inference.\n"
     ]
    },
    {
     "name": "stdout",
     "output_type": "stream",
     "text": [
      "epoch 0: {'precision': np.float64(0.6409465020576132), 'recall': np.float64(0.40271493212669685), 'f1': np.float64(0.49464073044859075), 'accuracy': 0.9315773407178056}\n",
      "epoch 1: {'precision': np.float64(0.6646090534979424), 'recall': np.float64(0.45718329794762913), 'f1': np.float64(0.5417190775681342), 'accuracy': 0.9397322401988575}\n",
      "epoch 2: {'precision': np.float64(0.684156378600823), 'recall': np.float64(0.4825834542815675), 'f1': np.float64(0.5659574468085106), 'accuracy': 0.9417818673411539}\n",
      "Running configuration 12 / 54: [lr=2e-05; wd=0.1; batch_size=8; warm_up=500]\n"
     ]
    },
    {
     "data": {
      "application/vnd.jupyter.widget-view+json": {
       "model_id": "aaf3341624334516a3ba28316943406d",
       "version_major": 2,
       "version_minor": 0
      },
      "text/plain": [
       "  0%|          | 0/747 [00:00<?, ?it/s]"
      ]
     },
     "metadata": {},
     "output_type": "display_data"
    },
    {
     "name": "stderr",
     "output_type": "stream",
     "text": [
      "Some weights of BertForTokenClassification were not initialized from the model checkpoint at bert-base-cased and are newly initialized: ['classifier.bias', 'classifier.weight']\n",
      "You should probably TRAIN this model on a down-stream task to be able to use it for predictions and inference.\n"
     ]
    },
    {
     "name": "stdout",
     "output_type": "stream",
     "text": [
      "epoch 0: {'precision': np.float64(0.23868312757201646), 'recall': np.float64(0.3772357723577236), 'f1': np.float64(0.2923755513547574), 'accuracy': 0.9200645414504383}\n",
      "epoch 1: {'precision': np.float64(0.6440329218106996), 'recall': np.float64(0.42469470827679784), 'f1': np.float64(0.5118560915780866), 'accuracy': 0.9294841044873752}\n",
      "epoch 2: {'precision': np.float64(0.6604938271604939), 'recall': np.float64(0.4893292682926829), 'f1': np.float64(0.5621716287215411), 'accuracy': 0.9444856308054599}\n",
      "Running configuration 13 / 54: [lr=2e-05; wd=0.01; batch_size=16; warm_up=0]\n"
     ]
    },
    {
     "data": {
      "application/vnd.jupyter.widget-view+json": {
       "model_id": "c9f33fa09386402fb8137b7ed53a8a9d",
       "version_major": 2,
       "version_minor": 0
      },
      "text/plain": [
       "  0%|          | 0/373 [00:00<?, ?it/s]"
      ]
     },
     "metadata": {},
     "output_type": "display_data"
    },
    {
     "name": "stderr",
     "output_type": "stream",
     "text": [
      "Some weights of BertForTokenClassification were not initialized from the model checkpoint at bert-base-cased and are newly initialized: ['classifier.bias', 'classifier.weight']\n",
      "You should probably TRAIN this model on a down-stream task to be able to use it for predictions and inference.\n"
     ]
    },
    {
     "name": "stdout",
     "output_type": "stream",
     "text": [
      "epoch 0: {'precision': np.float64(0.5308641975308642), 'recall': np.float64(0.4161290322580645), 'f1': np.float64(0.4665461121157324), 'accuracy': 0.9326239588330208}\n",
      "epoch 1: {'precision': np.float64(0.6388888888888888), 'recall': np.float64(0.4516363636363636), 'f1': np.float64(0.5291861951427353), 'accuracy': 0.9384675766429724}\n",
      "epoch 2: {'precision': np.float64(0.6481481481481481), 'recall': np.float64(0.4666666666666667), 'f1': np.float64(0.5426356589147288), 'accuracy': 0.9397322401988575}\n",
      "Running configuration 14 / 54: [lr=2e-05; wd=0.01; batch_size=16; warm_up=100]\n"
     ]
    },
    {
     "data": {
      "application/vnd.jupyter.widget-view+json": {
       "model_id": "0137f67296ff4194a6f3a4f1cddb4640",
       "version_major": 2,
       "version_minor": 0
      },
      "text/plain": [
       "  0%|          | 0/373 [00:00<?, ?it/s]"
      ]
     },
     "metadata": {},
     "output_type": "display_data"
    },
    {
     "name": "stderr",
     "output_type": "stream",
     "text": [
      "Some weights of BertForTokenClassification were not initialized from the model checkpoint at bert-base-cased and are newly initialized: ['classifier.bias', 'classifier.weight']\n",
      "You should probably TRAIN this model on a down-stream task to be able to use it for predictions and inference.\n"
     ]
    },
    {
     "name": "stdout",
     "output_type": "stream",
     "text": [
      "epoch 0: {'precision': np.float64(0.24074074074074073), 'recall': np.float64(0.34110787172011664), 'f1': np.float64(0.28226779252110973), 'accuracy': 0.9235096594130217}\n",
      "epoch 1: {'precision': np.float64(0.602880658436214), 'recall': np.float64(0.44093303235515424), 'f1': np.float64(0.5093437635810517), 'accuracy': 0.9371593039989534}\n",
      "epoch 2: {'precision': np.float64(0.647119341563786), 'recall': np.float64(0.4489650249821556), 'f1': np.float64(0.5301306363253266), 'accuracy': 0.9393397584056518}\n",
      "Running configuration 15 / 54: [lr=2e-05; wd=0.01; batch_size=16; warm_up=500]\n"
     ]
    },
    {
     "data": {
      "application/vnd.jupyter.widget-view+json": {
       "model_id": "d859e22b6d5b4bf6a7603b6b273da2c6",
       "version_major": 2,
       "version_minor": 0
      },
      "text/plain": [
       "  0%|          | 0/373 [00:00<?, ?it/s]"
      ]
     },
     "metadata": {},
     "output_type": "display_data"
    },
    {
     "name": "stderr",
     "output_type": "stream",
     "text": [
      "Some weights of BertForTokenClassification were not initialized from the model checkpoint at bert-base-cased and are newly initialized: ['classifier.bias', 'classifier.weight']\n",
      "You should probably TRAIN this model on a down-stream task to be able to use it for predictions and inference.\n",
      "/vol/home/s4422090/.local/lib/python3.12/site-packages/seqeval/metrics/v1.py:57: UndefinedMetricWarning: Recall and F-score are ill-defined and being set to 0.0 due to no true samples. Use `zero_division` parameter to control this behavior.\n",
      "  _warn_prf(average, modifier, msg_start, len(result))\n"
     ]
    },
    {
     "name": "stdout",
     "output_type": "stream",
     "text": [
      "epoch 0: {'precision': np.float64(0.0), 'recall': np.float64(0.0), 'f1': np.float64(0.0), 'accuracy': 0.9029261698137891}\n",
      "epoch 1: {'precision': np.float64(0.3117283950617284), 'recall': np.float64(0.37733499377334995), 'f1': np.float64(0.3414084507042253), 'accuracy': 0.9273472591688108}\n",
      "epoch 2: {'precision': np.float64(0.6419753086419753), 'recall': np.float64(0.45381818181818184), 'f1': np.float64(0.5317426501917342), 'accuracy': 0.9378134403209629}\n",
      "Running configuration 16 / 54: [lr=2e-05; wd=0.01; batch_size=8; warm_up=0]\n"
     ]
    },
    {
     "data": {
      "application/vnd.jupyter.widget-view+json": {
       "model_id": "7173fa79a30e4814997095122756ea29",
       "version_major": 2,
       "version_minor": 0
      },
      "text/plain": [
       "  0%|          | 0/747 [00:00<?, ?it/s]"
      ]
     },
     "metadata": {},
     "output_type": "display_data"
    },
    {
     "name": "stderr",
     "output_type": "stream",
     "text": [
      "Some weights of BertForTokenClassification were not initialized from the model checkpoint at bert-base-cased and are newly initialized: ['classifier.bias', 'classifier.weight']\n",
      "You should probably TRAIN this model on a down-stream task to be able to use it for predictions and inference.\n"
     ]
    },
    {
     "name": "stdout",
     "output_type": "stream",
     "text": [
      "epoch 0: {'precision': np.float64(0.6419753086419753), 'recall': np.float64(0.4625648628613788), 'f1': np.float64(0.5376992675570874), 'accuracy': 0.9383367493785705}\n",
      "epoch 1: {'precision': np.float64(0.647119341563786), 'recall': np.float64(0.501195219123506), 'f1': np.float64(0.5648854961832062), 'accuracy': 0.9450525489512014}\n",
      "epoch 2: {'precision': np.float64(0.6790123456790124), 'recall': np.float64(0.4878048780487805), 'f1': np.float64(0.567741935483871), 'accuracy': 0.9436134490427805}\n",
      "Running configuration 17 / 54: [lr=2e-05; wd=0.01; batch_size=8; warm_up=100]\n"
     ]
    },
    {
     "data": {
      "application/vnd.jupyter.widget-view+json": {
       "model_id": "c74cefe749964ba384eb6c8f17cac5a1",
       "version_major": 2,
       "version_minor": 0
      },
      "text/plain": [
       "  0%|          | 0/747 [00:00<?, ?it/s]"
      ]
     },
     "metadata": {},
     "output_type": "display_data"
    },
    {
     "name": "stderr",
     "output_type": "stream",
     "text": [
      "Some weights of BertForTokenClassification were not initialized from the model checkpoint at bert-base-cased and are newly initialized: ['classifier.bias', 'classifier.weight']\n",
      "You should probably TRAIN this model on a down-stream task to be able to use it for predictions and inference.\n"
     ]
    },
    {
     "name": "stdout",
     "output_type": "stream",
     "text": [
      "epoch 0: {'precision': np.float64(0.5174897119341564), 'recall': np.float64(0.5261506276150628), 'f1': np.float64(0.5217842323651452), 'accuracy': 0.94426758536479}\n",
      "epoch 1: {'precision': np.float64(0.661522633744856), 'recall': np.float64(0.49806351665375675), 'f1': np.float64(0.5682722050375608), 'accuracy': 0.9467096943002922}\n",
      "epoch 2: {'precision': np.float64(0.6697530864197531), 'recall': np.float64(0.5130023640661938), 'f1': np.float64(0.5809906291834002), 'accuracy': 0.9472330033578998}\n",
      "Running configuration 18 / 54: [lr=2e-05; wd=0.01; batch_size=8; warm_up=500]\n"
     ]
    },
    {
     "data": {
      "application/vnd.jupyter.widget-view+json": {
       "model_id": "e2e007d28994423198407b17b3a622a8",
       "version_major": 2,
       "version_minor": 0
      },
      "text/plain": [
       "  0%|          | 0/747 [00:00<?, ?it/s]"
      ]
     },
     "metadata": {},
     "output_type": "display_data"
    },
    {
     "name": "stderr",
     "output_type": "stream",
     "text": [
      "Some weights of BertForTokenClassification were not initialized from the model checkpoint at bert-base-cased and are newly initialized: ['classifier.bias', 'classifier.weight']\n",
      "You should probably TRAIN this model on a down-stream task to be able to use it for predictions and inference.\n"
     ]
    },
    {
     "name": "stdout",
     "output_type": "stream",
     "text": [
      "epoch 0: {'precision': np.float64(0.2788065843621399), 'recall': np.float64(0.2618357487922705), 'f1': np.float64(0.2700548081714001), 'accuracy': 0.9128690419083337}\n",
      "epoch 1: {'precision': np.float64(0.6337448559670782), 'recall': np.float64(0.3966516419832582), 'f1': np.float64(0.48792079207920797), 'accuracy': 0.9296149317517771}\n",
      "epoch 2: {'precision': np.float64(0.684156378600823), 'recall': np.float64(0.4850474106491612), 'f1': np.float64(0.5676483141271873), 'accuracy': 0.9428284854563691}\n",
      "Running configuration 19 / 54: [lr=0.0001; wd=0.0; batch_size=16; warm_up=0]\n"
     ]
    },
    {
     "data": {
      "application/vnd.jupyter.widget-view+json": {
       "model_id": "afecd936215141ccb8f1f2539d4c4703",
       "version_major": 2,
       "version_minor": 0
      },
      "text/plain": [
       "  0%|          | 0/373 [00:00<?, ?it/s]"
      ]
     },
     "metadata": {},
     "output_type": "display_data"
    },
    {
     "name": "stderr",
     "output_type": "stream",
     "text": [
      "Some weights of BertForTokenClassification were not initialized from the model checkpoint at bert-base-cased and are newly initialized: ['classifier.bias', 'classifier.weight']\n",
      "You should probably TRAIN this model on a down-stream task to be able to use it for predictions and inference.\n"
     ]
    },
    {
     "name": "stdout",
     "output_type": "stream",
     "text": [
      "epoch 0: {'precision': np.float64(0.6574074074074074), 'recall': np.float64(0.43175675675675673), 'f1': np.float64(0.5212071778140293), 'accuracy': 0.9327983951855566}\n",
      "epoch 1: {'precision': np.float64(0.6337448559670782), 'recall': np.float64(0.5229202037351444), 'f1': np.float64(0.5730232558139535), 'accuracy': 0.9464480397714884}\n",
      "epoch 2: {'precision': np.float64(0.676954732510288), 'recall': np.float64(0.5181102362204725), 'f1': np.float64(0.5869759143621768), 'accuracy': 0.9457066852732109}\n",
      "Running configuration 20 / 54: [lr=0.0001; wd=0.0; batch_size=16; warm_up=100]\n"
     ]
    },
    {
     "data": {
      "application/vnd.jupyter.widget-view+json": {
       "model_id": "a5118eb472df49508f5ea12e138e8498",
       "version_major": 2,
       "version_minor": 0
      },
      "text/plain": [
       "  0%|          | 0/373 [00:00<?, ?it/s]"
      ]
     },
     "metadata": {},
     "output_type": "display_data"
    },
    {
     "name": "stderr",
     "output_type": "stream",
     "text": [
      "Some weights of BertForTokenClassification were not initialized from the model checkpoint at bert-base-cased and are newly initialized: ['classifier.bias', 'classifier.weight']\n",
      "You should probably TRAIN this model on a down-stream task to be able to use it for predictions and inference.\n"
     ]
    },
    {
     "name": "stdout",
     "output_type": "stream",
     "text": [
      "epoch 0: {'precision': np.float64(0.6018518518518519), 'recall': np.float64(0.44150943396226416), 'f1': np.float64(0.5093600348280366), 'accuracy': 0.9386420129955083}\n",
      "epoch 1: {'precision': np.float64(0.6275720164609053), 'recall': np.float64(0.5087572977481234), 'f1': np.float64(0.5619530170428373), 'accuracy': 0.9467096943002922}\n",
      "epoch 2: {'precision': np.float64(0.6604938271604939), 'recall': np.float64(0.5136), 'f1': np.float64(0.5778577857785777), 'accuracy': 0.9450089398630674}\n",
      "Running configuration 21 / 54: [lr=0.0001; wd=0.0; batch_size=16; warm_up=500]\n"
     ]
    },
    {
     "data": {
      "application/vnd.jupyter.widget-view+json": {
       "model_id": "8cb1866b914e4189b87f329bf6996588",
       "version_major": 2,
       "version_minor": 0
      },
      "text/plain": [
       "  0%|          | 0/373 [00:00<?, ?it/s]"
      ]
     },
     "metadata": {},
     "output_type": "display_data"
    },
    {
     "name": "stderr",
     "output_type": "stream",
     "text": [
      "Some weights of BertForTokenClassification were not initialized from the model checkpoint at bert-base-cased and are newly initialized: ['classifier.bias', 'classifier.weight']\n",
      "You should probably TRAIN this model on a down-stream task to be able to use it for predictions and inference.\n"
     ]
    },
    {
     "name": "stdout",
     "output_type": "stream",
     "text": [
      "epoch 0: {'precision': np.float64(0.39300411522633744), 'recall': np.float64(0.27188612099644127), 'f1': np.float64(0.3214135464871687), 'accuracy': 0.9173171688979983}\n",
      "epoch 1: {'precision': np.float64(0.5823045267489712), 'recall': np.float64(0.5076233183856502), 'f1': np.float64(0.5424053665548635), 'accuracy': 0.947058567005364}\n",
      "epoch 2: {'precision': np.float64(0.661522633744856), 'recall': np.float64(0.49309815950920244), 'f1': np.float64(0.5650263620386643), 'accuracy': 0.9395578038463216}\n",
      "Running configuration 22 / 54: [lr=0.0001; wd=0.0; batch_size=8; warm_up=0]\n"
     ]
    },
    {
     "data": {
      "application/vnd.jupyter.widget-view+json": {
       "model_id": "6055fac47e044b7fb09951d05afe9b91",
       "version_major": 2,
       "version_minor": 0
      },
      "text/plain": [
       "  0%|          | 0/747 [00:00<?, ?it/s]"
      ]
     },
     "metadata": {},
     "output_type": "display_data"
    },
    {
     "name": "stderr",
     "output_type": "stream",
     "text": [
      "Some weights of BertForTokenClassification were not initialized from the model checkpoint at bert-base-cased and are newly initialized: ['classifier.bias', 'classifier.weight']\n",
      "You should probably TRAIN this model on a down-stream task to be able to use it for predictions and inference.\n"
     ]
    },
    {
     "name": "stdout",
     "output_type": "stream",
     "text": [
      "epoch 0: {'precision': np.float64(0.6244855967078189), 'recall': np.float64(0.45707831325301207), 'f1': np.float64(0.5278260869565217), 'accuracy': 0.9395578038463216}\n",
      "epoch 1: {'precision': np.float64(0.6584362139917695), 'recall': np.float64(0.44506258692628653), 'f1': np.float64(0.5311203319502076), 'accuracy': 0.9404735946971349}\n",
      "epoch 2: {'precision': np.float64(0.6563786008230452), 'recall': np.float64(0.4919043947571318), 'f1': np.float64(0.5623622741295725), 'accuracy': 0.9448781125986656}\n",
      "Running configuration 23 / 54: [lr=0.0001; wd=0.0; batch_size=8; warm_up=100]\n"
     ]
    },
    {
     "data": {
      "application/vnd.jupyter.widget-view+json": {
       "model_id": "a816cf58def34429837095f3a1e5ed52",
       "version_major": 2,
       "version_minor": 0
      },
      "text/plain": [
       "  0%|          | 0/747 [00:00<?, ?it/s]"
      ]
     },
     "metadata": {},
     "output_type": "display_data"
    },
    {
     "name": "stderr",
     "output_type": "stream",
     "text": [
      "Some weights of BertForTokenClassification were not initialized from the model checkpoint at bert-base-cased and are newly initialized: ['classifier.bias', 'classifier.weight']\n",
      "You should probably TRAIN this model on a down-stream task to be able to use it for predictions and inference.\n"
     ]
    },
    {
     "name": "stdout",
     "output_type": "stream",
     "text": [
      "epoch 0: {'precision': np.float64(0.6039094650205762), 'recall': np.float64(0.476461038961039), 'f1': np.float64(0.5326678765880218), 'accuracy': 0.940386376520867}\n",
      "epoch 1: {'precision': np.float64(0.6903292181069959), 'recall': np.float64(0.45215633423180596), 'f1': np.float64(0.5464169381107492), 'accuracy': 0.9372465221752213}\n",
      "epoch 2: {'precision': np.float64(0.6718106995884774), 'recall': np.float64(0.5253419147224457), 'f1': np.float64(0.5896162528216705), 'accuracy': 0.9464480397714884}\n",
      "Running configuration 24 / 54: [lr=0.0001; wd=0.0; batch_size=8; warm_up=500]\n"
     ]
    },
    {
     "data": {
      "application/vnd.jupyter.widget-view+json": {
       "model_id": "a52c206ca09d4d818fa7a30237414b67",
       "version_major": 2,
       "version_minor": 0
      },
      "text/plain": [
       "  0%|          | 0/747 [00:00<?, ?it/s]"
      ]
     },
     "metadata": {},
     "output_type": "display_data"
    },
    {
     "name": "stderr",
     "output_type": "stream",
     "text": [
      "Some weights of BertForTokenClassification were not initialized from the model checkpoint at bert-base-cased and are newly initialized: ['classifier.bias', 'classifier.weight']\n",
      "You should probably TRAIN this model on a down-stream task to be able to use it for predictions and inference.\n"
     ]
    },
    {
     "name": "stdout",
     "output_type": "stream",
     "text": [
      "epoch 0: {'precision': np.float64(0.6183127572016461), 'recall': np.float64(0.5054667788057191), 'f1': np.float64(0.5562239703840816), 'accuracy': 0.944311194452924}\n",
      "epoch 1: {'precision': np.float64(0.6646090534979424), 'recall': np.float64(0.42277486910994766), 'f1': np.float64(0.5168), 'accuracy': 0.931054031660198}\n",
      "epoch 2: {'precision': np.float64(0.6574074074074074), 'recall': np.float64(0.5186688311688312), 'f1': np.float64(0.5798548094373865), 'accuracy': 0.9436134490427805}\n",
      "Running configuration 25 / 54: [lr=0.0001; wd=0.1; batch_size=16; warm_up=0]\n"
     ]
    },
    {
     "data": {
      "application/vnd.jupyter.widget-view+json": {
       "model_id": "d4be3a99640d4041ba98de73fe4b1988",
       "version_major": 2,
       "version_minor": 0
      },
      "text/plain": [
       "  0%|          | 0/373 [00:00<?, ?it/s]"
      ]
     },
     "metadata": {},
     "output_type": "display_data"
    },
    {
     "name": "stderr",
     "output_type": "stream",
     "text": [
      "Some weights of BertForTokenClassification were not initialized from the model checkpoint at bert-base-cased and are newly initialized: ['classifier.bias', 'classifier.weight']\n",
      "You should probably TRAIN this model on a down-stream task to be able to use it for predictions and inference.\n"
     ]
    },
    {
     "name": "stdout",
     "output_type": "stream",
     "text": [
      "epoch 0: {'precision': np.float64(0.6152263374485597), 'recall': np.float64(0.47955092221331197), 'f1': np.float64(0.5389815232086526), 'accuracy': 0.9382495312023026}\n",
      "epoch 1: {'precision': np.float64(0.6574074074074074), 'recall': np.float64(0.44190871369294604), 'f1': np.float64(0.5285359801488834), 'accuracy': 0.9365487767650779}\n",
      "epoch 2: {'precision': np.float64(0.6440329218106996), 'recall': np.float64(0.48753894080996885), 'f1': np.float64(0.5549645390070923), 'accuracy': 0.9422179582224935}\n",
      "Running configuration 26 / 54: [lr=0.0001; wd=0.1; batch_size=16; warm_up=100]\n"
     ]
    },
    {
     "data": {
      "application/vnd.jupyter.widget-view+json": {
       "model_id": "c8f5930fb5304496bc02ecf0da7a92ac",
       "version_major": 2,
       "version_minor": 0
      },
      "text/plain": [
       "  0%|          | 0/373 [00:00<?, ?it/s]"
      ]
     },
     "metadata": {},
     "output_type": "display_data"
    },
    {
     "name": "stderr",
     "output_type": "stream",
     "text": [
      "Some weights of BertForTokenClassification were not initialized from the model checkpoint at bert-base-cased and are newly initialized: ['classifier.bias', 'classifier.weight']\n",
      "You should probably TRAIN this model on a down-stream task to be able to use it for predictions and inference.\n"
     ]
    },
    {
     "name": "stdout",
     "output_type": "stream",
     "text": [
      "epoch 0: {'precision': np.float64(0.6203703703703703), 'recall': np.float64(0.42375263527758256), 'f1': np.float64(0.5035490605427975), 'accuracy': 0.9341066678295756}\n",
      "epoch 1: {'precision': np.float64(0.6718106995884774), 'recall': np.float64(0.48622486969471335), 'f1': np.float64(0.56414686825054), 'accuracy': 0.9439187126597183}\n",
      "epoch 2: {'precision': np.float64(0.6872427983539094), 'recall': np.float64(0.5202492211838006), 'f1': np.float64(0.5921985815602837), 'accuracy': 0.9484540578256508}\n",
      "Running configuration 27 / 54: [lr=0.0001; wd=0.1; batch_size=16; warm_up=500]\n"
     ]
    },
    {
     "data": {
      "application/vnd.jupyter.widget-view+json": {
       "model_id": "01e60608bb47416c983935f2a5b65901",
       "version_major": 2,
       "version_minor": 0
      },
      "text/plain": [
       "  0%|          | 0/373 [00:00<?, ?it/s]"
      ]
     },
     "metadata": {},
     "output_type": "display_data"
    },
    {
     "name": "stderr",
     "output_type": "stream",
     "text": [
      "Some weights of BertForTokenClassification were not initialized from the model checkpoint at bert-base-cased and are newly initialized: ['classifier.bias', 'classifier.weight']\n",
      "You should probably TRAIN this model on a down-stream task to be able to use it for predictions and inference.\n"
     ]
    },
    {
     "name": "stdout",
     "output_type": "stream",
     "text": [
      "epoch 0: {'precision': np.float64(0.29835390946502055), 'recall': np.float64(0.2950152594099695), 'f1': np.float64(0.2966751918158568), 'accuracy': 0.9215908595351271}\n",
      "epoch 1: {'precision': np.float64(0.5555555555555556), 'recall': np.float64(0.5027932960893855), 'f1': np.float64(0.527859237536657), 'accuracy': 0.9457066852732109}\n",
      "epoch 2: {'precision': np.float64(0.602880658436214), 'recall': np.float64(0.48792672772689427), 'f1': np.float64(0.5393465255407272), 'accuracy': 0.9419563036936898}\n",
      "Running configuration 28 / 54: [lr=0.0001; wd=0.1; batch_size=8; warm_up=0]\n"
     ]
    },
    {
     "data": {
      "application/vnd.jupyter.widget-view+json": {
       "model_id": "4d010df908554035b2eb3e275733e304",
       "version_major": 2,
       "version_minor": 0
      },
      "text/plain": [
       "  0%|          | 0/747 [00:00<?, ?it/s]"
      ]
     },
     "metadata": {},
     "output_type": "display_data"
    },
    {
     "name": "stderr",
     "output_type": "stream",
     "text": [
      "Some weights of BertForTokenClassification were not initialized from the model checkpoint at bert-base-cased and are newly initialized: ['classifier.bias', 'classifier.weight']\n",
      "You should probably TRAIN this model on a down-stream task to be able to use it for predictions and inference.\n"
     ]
    },
    {
     "name": "stdout",
     "output_type": "stream",
     "text": [
      "epoch 0: {'precision': np.float64(0.6224279835390947), 'recall': np.float64(0.43462643678160917), 'f1': np.float64(0.511844331641286), 'accuracy': 0.9341066678295756}\n",
      "epoch 1: {'precision': np.float64(0.6594650205761317), 'recall': np.float64(0.4965143299767622), 'f1': np.float64(0.5665046398585947), 'accuracy': 0.942872094544503}\n",
      "epoch 2: {'precision': np.float64(0.6553497942386831), 'recall': np.float64(0.5087859424920128), 'f1': np.float64(0.572841726618705), 'accuracy': 0.9444856308054599}\n",
      "Running configuration 29 / 54: [lr=0.0001; wd=0.1; batch_size=8; warm_up=100]\n"
     ]
    },
    {
     "data": {
      "application/vnd.jupyter.widget-view+json": {
       "model_id": "7940044992c544bea43480a90853f418",
       "version_major": 2,
       "version_minor": 0
      },
      "text/plain": [
       "  0%|          | 0/747 [00:00<?, ?it/s]"
      ]
     },
     "metadata": {},
     "output_type": "display_data"
    },
    {
     "name": "stderr",
     "output_type": "stream",
     "text": [
      "Some weights of BertForTokenClassification were not initialized from the model checkpoint at bert-base-cased and are newly initialized: ['classifier.bias', 'classifier.weight']\n",
      "You should probably TRAIN this model on a down-stream task to be able to use it for predictions and inference.\n"
     ]
    },
    {
     "name": "stdout",
     "output_type": "stream",
     "text": [
      "epoch 0: {'precision': np.float64(0.6193415637860082), 'recall': np.float64(0.5114698385726423), 'f1': np.float64(0.5602605863192183), 'accuracy': 0.9443984126291919}\n",
      "epoch 1: {'precision': np.float64(0.5997942386831275), 'recall': np.float64(0.5008591065292096), 'f1': np.float64(0.545880149812734), 'accuracy': 0.942872094544503}\n",
      "epoch 2: {'precision': np.float64(0.6553497942386831), 'recall': np.float64(0.5260115606936416), 'f1': np.float64(0.5836005497022446), 'accuracy': 0.9474510487985697}\n",
      "Running configuration 30 / 54: [lr=0.0001; wd=0.1; batch_size=8; warm_up=500]\n"
     ]
    },
    {
     "data": {
      "application/vnd.jupyter.widget-view+json": {
       "model_id": "bbe92673da9e490ab948c10310ed6ccc",
       "version_major": 2,
       "version_minor": 0
      },
      "text/plain": [
       "  0%|          | 0/747 [00:00<?, ?it/s]"
      ]
     },
     "metadata": {},
     "output_type": "display_data"
    },
    {
     "name": "stderr",
     "output_type": "stream",
     "text": [
      "Some weights of BertForTokenClassification were not initialized from the model checkpoint at bert-base-cased and are newly initialized: ['classifier.bias', 'classifier.weight']\n",
      "You should probably TRAIN this model on a down-stream task to be able to use it for predictions and inference.\n"
     ]
    },
    {
     "name": "stdout",
     "output_type": "stream",
     "text": [
      "epoch 0: {'precision': np.float64(0.6203703703703703), 'recall': np.float64(0.41358024691358025), 'f1': np.float64(0.4962962962962963), 'accuracy': 0.9311848589245999}\n",
      "epoch 1: {'precision': np.float64(0.6018518518518519), 'recall': np.float64(0.3569249542403905), 'f1': np.float64(0.4481041746457296), 'accuracy': 0.9187998778945532}\n",
      "epoch 2: {'precision': np.float64(0.654320987654321), 'recall': np.float64(0.4937888198757764), 'f1': np.float64(0.5628318584070797), 'accuracy': 0.9419563036936898}\n",
      "Running configuration 31 / 54: [lr=0.0001; wd=0.01; batch_size=16; warm_up=0]\n"
     ]
    },
    {
     "data": {
      "application/vnd.jupyter.widget-view+json": {
       "model_id": "27ce2984b3744c4ca647f4d6401c03d1",
       "version_major": 2,
       "version_minor": 0
      },
      "text/plain": [
       "  0%|          | 0/373 [00:00<?, ?it/s]"
      ]
     },
     "metadata": {},
     "output_type": "display_data"
    },
    {
     "name": "stderr",
     "output_type": "stream",
     "text": [
      "Some weights of BertForTokenClassification were not initialized from the model checkpoint at bert-base-cased and are newly initialized: ['classifier.bias', 'classifier.weight']\n",
      "You should probably TRAIN this model on a down-stream task to be able to use it for predictions and inference.\n"
     ]
    },
    {
     "name": "stdout",
     "output_type": "stream",
     "text": [
      "epoch 0: {'precision': np.float64(0.6234567901234568), 'recall': np.float64(0.425561797752809), 'f1': np.float64(0.5058430717863106), 'accuracy': 0.9380750948497667}\n",
      "epoch 1: {'precision': np.float64(0.6440329218106996), 'recall': np.float64(0.4710308502633559), 'f1': np.float64(0.5441112559756627), 'accuracy': 0.9406044219615368}\n",
      "epoch 2: {'precision': np.float64(0.647119341563786), 'recall': np.float64(0.48646558391337974), 'f1': np.float64(0.5554083885209713), 'accuracy': 0.9413021673716803}\n",
      "Running configuration 32 / 54: [lr=0.0001; wd=0.01; batch_size=16; warm_up=100]\n"
     ]
    },
    {
     "data": {
      "application/vnd.jupyter.widget-view+json": {
       "model_id": "487d032000354a8c83d1cedb45cfd041",
       "version_major": 2,
       "version_minor": 0
      },
      "text/plain": [
       "  0%|          | 0/373 [00:00<?, ?it/s]"
      ]
     },
     "metadata": {},
     "output_type": "display_data"
    },
    {
     "name": "stderr",
     "output_type": "stream",
     "text": [
      "Some weights of BertForTokenClassification were not initialized from the model checkpoint at bert-base-cased and are newly initialized: ['classifier.bias', 'classifier.weight']\n",
      "You should probably TRAIN this model on a down-stream task to be able to use it for predictions and inference.\n"
     ]
    },
    {
     "name": "stdout",
     "output_type": "stream",
     "text": [
      "epoch 0: {'precision': np.float64(0.5874485596707819), 'recall': np.float64(0.4593724859211585), 'f1': np.float64(0.5155756207674943), 'accuracy': 0.9410405128428765}\n",
      "epoch 1: {'precision': np.float64(0.6347736625514403), 'recall': np.float64(0.43359100491918484), 'f1': np.float64(0.515240083507307), 'accuracy': 0.93371418603637}\n",
      "epoch 2: {'precision': np.float64(0.6851851851851852), 'recall': np.float64(0.4868421052631579), 'f1': np.float64(0.5692307692307693), 'accuracy': 0.9397322401988575}\n",
      "Running configuration 33 / 54: [lr=0.0001; wd=0.01; batch_size=16; warm_up=500]\n"
     ]
    },
    {
     "data": {
      "application/vnd.jupyter.widget-view+json": {
       "model_id": "d8032ae89be44e87b095f1434d3e9779",
       "version_major": 2,
       "version_minor": 0
      },
      "text/plain": [
       "  0%|          | 0/373 [00:00<?, ?it/s]"
      ]
     },
     "metadata": {},
     "output_type": "display_data"
    },
    {
     "name": "stderr",
     "output_type": "stream",
     "text": [
      "Some weights of BertForTokenClassification were not initialized from the model checkpoint at bert-base-cased and are newly initialized: ['classifier.bias', 'classifier.weight']\n",
      "You should probably TRAIN this model on a down-stream task to be able to use it for predictions and inference.\n"
     ]
    },
    {
     "name": "stdout",
     "output_type": "stream",
     "text": [
      "epoch 0: {'precision': np.float64(0.3446502057613169), 'recall': np.float64(0.3353353353353353), 'f1': np.float64(0.3399289700659564), 'accuracy': 0.925733722907854}\n",
      "epoch 1: {'precision': np.float64(0.6604938271604939), 'recall': np.float64(0.44863731656184486), 'f1': np.float64(0.5343320848938826), 'accuracy': 0.9413021673716803}\n",
      "epoch 2: {'precision': np.float64(0.6522633744855967), 'recall': np.float64(0.45415472779369626), 'f1': np.float64(0.535472972972973), 'accuracy': 0.941694649164886}\n",
      "Running configuration 34 / 54: [lr=0.0001; wd=0.01; batch_size=8; warm_up=0]\n"
     ]
    },
    {
     "data": {
      "application/vnd.jupyter.widget-view+json": {
       "model_id": "7f67983164dc43119a4d68ee24ca8533",
       "version_major": 2,
       "version_minor": 0
      },
      "text/plain": [
       "  0%|          | 0/747 [00:00<?, ?it/s]"
      ]
     },
     "metadata": {},
     "output_type": "display_data"
    },
    {
     "name": "stderr",
     "output_type": "stream",
     "text": [
      "Some weights of BertForTokenClassification were not initialized from the model checkpoint at bert-base-cased and are newly initialized: ['classifier.bias', 'classifier.weight']\n",
      "You should probably TRAIN this model on a down-stream task to be able to use it for predictions and inference.\n"
     ]
    },
    {
     "name": "stdout",
     "output_type": "stream",
     "text": [
      "epoch 0: {'precision': np.float64(0.6039094650205762), 'recall': np.float64(0.43257184966838613), 'f1': np.float64(0.5040790038643196), 'accuracy': 0.9327111770092887}\n",
      "epoch 1: {'precision': np.float64(0.6820987654320988), 'recall': np.float64(0.4885777450257922), 'f1': np.float64(0.5693430656934307), 'accuracy': 0.9432645763377088}\n",
      "epoch 2: {'precision': np.float64(0.6676954732510288), 'recall': np.float64(0.515079365079365), 'f1': np.float64(0.5815412186379929), 'accuracy': 0.9440059308359863}\n",
      "Running configuration 35 / 54: [lr=0.0001; wd=0.01; batch_size=8; warm_up=100]\n"
     ]
    },
    {
     "data": {
      "application/vnd.jupyter.widget-view+json": {
       "model_id": "83f94d32a0274d16b3d50b69293f4f11",
       "version_major": 2,
       "version_minor": 0
      },
      "text/plain": [
       "  0%|          | 0/747 [00:00<?, ?it/s]"
      ]
     },
     "metadata": {},
     "output_type": "display_data"
    },
    {
     "name": "stderr",
     "output_type": "stream",
     "text": [
      "Some weights of BertForTokenClassification were not initialized from the model checkpoint at bert-base-cased and are newly initialized: ['classifier.bias', 'classifier.weight']\n",
      "You should probably TRAIN this model on a down-stream task to be able to use it for predictions and inference.\n"
     ]
    },
    {
     "name": "stdout",
     "output_type": "stream",
     "text": [
      "epoch 0: {'precision': np.float64(0.6039094650205762), 'recall': np.float64(0.48114754098360657), 'f1': np.float64(0.5355839416058393), 'accuracy': 0.9419126946055558}\n",
      "epoch 1: {'precision': np.float64(0.6594650205761317), 'recall': np.float64(0.5027450980392156), 'f1': np.float64(0.5705384957721406), 'accuracy': 0.9461863852426846}\n",
      "epoch 2: {'precision': np.float64(0.676954732510288), 'recall': np.float64(0.5065434949961509), 'f1': np.float64(0.579480405107882), 'accuracy': 0.9450525489512014}\n",
      "Running configuration 36 / 54: [lr=0.0001; wd=0.01; batch_size=8; warm_up=500]\n"
     ]
    },
    {
     "data": {
      "application/vnd.jupyter.widget-view+json": {
       "model_id": "e0b0a02ad1dc4ed7bd151f6f99426cec",
       "version_major": 2,
       "version_minor": 0
      },
      "text/plain": [
       "  0%|          | 0/747 [00:00<?, ?it/s]"
      ]
     },
     "metadata": {},
     "output_type": "display_data"
    },
    {
     "name": "stderr",
     "output_type": "stream",
     "text": [
      "Some weights of BertForTokenClassification were not initialized from the model checkpoint at bert-base-cased and are newly initialized: ['classifier.bias', 'classifier.weight']\n",
      "You should probably TRAIN this model on a down-stream task to be able to use it for predictions and inference.\n"
     ]
    },
    {
     "name": "stdout",
     "output_type": "stream",
     "text": [
      "epoch 0: {'precision': np.float64(0.5977366255144033), 'recall': np.float64(0.37459703417150225), 'f1': np.float64(0.46056282203725724), 'accuracy': 0.9251668047621124}\n",
      "epoch 1: {'precision': np.float64(0.6141975308641975), 'recall': np.float64(0.4276504297994269), 'f1': np.float64(0.5042229729729729), 'accuracy': 0.932318695216083}\n",
      "epoch 2: {'precision': np.float64(0.6450617283950617), 'recall': np.float64(0.4925373134328358), 'f1': np.float64(0.5585746102449889), 'accuracy': 0.9433954036021107}\n",
      "Running configuration 37 / 54: [lr=0.01; wd=0.0; batch_size=16; warm_up=0]\n"
     ]
    },
    {
     "data": {
      "application/vnd.jupyter.widget-view+json": {
       "model_id": "fd9252154d254f77958af199563d1dc0",
       "version_major": 2,
       "version_minor": 0
      },
      "text/plain": [
       "  0%|          | 0/373 [00:00<?, ?it/s]"
      ]
     },
     "metadata": {},
     "output_type": "display_data"
    },
    {
     "name": "stderr",
     "output_type": "stream",
     "text": [
      "Some weights of BertForTokenClassification were not initialized from the model checkpoint at bert-base-cased and are newly initialized: ['classifier.bias', 'classifier.weight']\n",
      "You should probably TRAIN this model on a down-stream task to be able to use it for predictions and inference.\n"
     ]
    },
    {
     "name": "stdout",
     "output_type": "stream",
     "text": [
      "epoch 0: {'precision': np.float64(0.0), 'recall': np.float64(0.0), 'f1': np.float64(0.0), 'accuracy': 0.9029261698137891}\n",
      "epoch 1: {'precision': np.float64(0.0), 'recall': np.float64(0.0), 'f1': np.float64(0.0), 'accuracy': 0.9029261698137891}\n",
      "epoch 2: {'precision': np.float64(0.0), 'recall': np.float64(0.0), 'f1': np.float64(0.0), 'accuracy': 0.9029261698137891}\n",
      "Running configuration 38 / 54: [lr=0.01; wd=0.0; batch_size=16; warm_up=100]\n"
     ]
    },
    {
     "data": {
      "application/vnd.jupyter.widget-view+json": {
       "model_id": "905534c4fd5946c1af650e9a1858cedc",
       "version_major": 2,
       "version_minor": 0
      },
      "text/plain": [
       "  0%|          | 0/373 [00:00<?, ?it/s]"
      ]
     },
     "metadata": {},
     "output_type": "display_data"
    },
    {
     "name": "stderr",
     "output_type": "stream",
     "text": [
      "Some weights of BertForTokenClassification were not initialized from the model checkpoint at bert-base-cased and are newly initialized: ['classifier.bias', 'classifier.weight']\n",
      "You should probably TRAIN this model on a down-stream task to be able to use it for predictions and inference.\n"
     ]
    },
    {
     "name": "stdout",
     "output_type": "stream",
     "text": [
      "epoch 0: {'precision': np.float64(0.0), 'recall': np.float64(0.0), 'f1': np.float64(0.0), 'accuracy': 0.9029261698137891}\n",
      "epoch 1: {'precision': np.float64(0.0), 'recall': np.float64(0.0), 'f1': np.float64(0.0), 'accuracy': 0.9029261698137891}\n",
      "epoch 2: {'precision': np.float64(0.0), 'recall': np.float64(0.0), 'f1': np.float64(0.0), 'accuracy': 0.9029261698137891}\n",
      "Running configuration 39 / 54: [lr=0.01; wd=0.0; batch_size=16; warm_up=500]\n"
     ]
    },
    {
     "data": {
      "application/vnd.jupyter.widget-view+json": {
       "model_id": "11bae768bc184b43a44fae00eb666796",
       "version_major": 2,
       "version_minor": 0
      },
      "text/plain": [
       "  0%|          | 0/373 [00:00<?, ?it/s]"
      ]
     },
     "metadata": {},
     "output_type": "display_data"
    },
    {
     "name": "stderr",
     "output_type": "stream",
     "text": [
      "Some weights of BertForTokenClassification were not initialized from the model checkpoint at bert-base-cased and are newly initialized: ['classifier.bias', 'classifier.weight']\n",
      "You should probably TRAIN this model on a down-stream task to be able to use it for predictions and inference.\n"
     ]
    },
    {
     "name": "stdout",
     "output_type": "stream",
     "text": [
      "epoch 0: {'precision': np.float64(0.0), 'recall': np.float64(0.0), 'f1': np.float64(0.0), 'accuracy': 0.9029261698137891}\n",
      "epoch 1: {'precision': np.float64(0.0), 'recall': np.float64(0.0), 'f1': np.float64(0.0), 'accuracy': 0.9029261698137891}\n",
      "epoch 2: {'precision': np.float64(0.0), 'recall': np.float64(0.0), 'f1': np.float64(0.0), 'accuracy': 0.9029261698137891}\n",
      "Running configuration 40 / 54: [lr=0.01; wd=0.0; batch_size=8; warm_up=0]\n"
     ]
    },
    {
     "data": {
      "application/vnd.jupyter.widget-view+json": {
       "model_id": "8b359b18cbd44eea955b1c4697b695a3",
       "version_major": 2,
       "version_minor": 0
      },
      "text/plain": [
       "  0%|          | 0/747 [00:00<?, ?it/s]"
      ]
     },
     "metadata": {},
     "output_type": "display_data"
    },
    {
     "name": "stderr",
     "output_type": "stream",
     "text": [
      "Some weights of BertForTokenClassification were not initialized from the model checkpoint at bert-base-cased and are newly initialized: ['classifier.bias', 'classifier.weight']\n",
      "You should probably TRAIN this model on a down-stream task to be able to use it for predictions and inference.\n"
     ]
    },
    {
     "name": "stdout",
     "output_type": "stream",
     "text": [
      "epoch 0: {'precision': np.float64(0.0), 'recall': np.float64(0.0), 'f1': np.float64(0.0), 'accuracy': 0.9029261698137891}\n",
      "epoch 1: {'precision': np.float64(0.0), 'recall': np.float64(0.0), 'f1': np.float64(0.0), 'accuracy': 0.9029261698137891}\n",
      "epoch 2: {'precision': np.float64(0.0), 'recall': np.float64(0.0), 'f1': np.float64(0.0), 'accuracy': 0.9029261698137891}\n",
      "Running configuration 41 / 54: [lr=0.01; wd=0.0; batch_size=8; warm_up=100]\n"
     ]
    },
    {
     "data": {
      "application/vnd.jupyter.widget-view+json": {
       "model_id": "637205cedab74f6fa56fa4337393aa01",
       "version_major": 2,
       "version_minor": 0
      },
      "text/plain": [
       "  0%|          | 0/747 [00:00<?, ?it/s]"
      ]
     },
     "metadata": {},
     "output_type": "display_data"
    },
    {
     "name": "stderr",
     "output_type": "stream",
     "text": [
      "Some weights of BertForTokenClassification were not initialized from the model checkpoint at bert-base-cased and are newly initialized: ['classifier.bias', 'classifier.weight']\n",
      "You should probably TRAIN this model on a down-stream task to be able to use it for predictions and inference.\n"
     ]
    },
    {
     "name": "stdout",
     "output_type": "stream",
     "text": [
      "epoch 0: {'precision': np.float64(0.0), 'recall': np.float64(0.0), 'f1': np.float64(0.0), 'accuracy': 0.9029261698137891}\n",
      "epoch 1: {'precision': np.float64(0.0), 'recall': np.float64(0.0), 'f1': np.float64(0.0), 'accuracy': 0.9029261698137891}\n",
      "epoch 2: {'precision': np.float64(0.0), 'recall': np.float64(0.0), 'f1': np.float64(0.0), 'accuracy': 0.9029261698137891}\n",
      "Running configuration 42 / 54: [lr=0.01; wd=0.0; batch_size=8; warm_up=500]\n"
     ]
    },
    {
     "data": {
      "application/vnd.jupyter.widget-view+json": {
       "model_id": "1922d9a0f06e44cb88a72d22dd5f2265",
       "version_major": 2,
       "version_minor": 0
      },
      "text/plain": [
       "  0%|          | 0/747 [00:00<?, ?it/s]"
      ]
     },
     "metadata": {},
     "output_type": "display_data"
    },
    {
     "name": "stderr",
     "output_type": "stream",
     "text": [
      "Some weights of BertForTokenClassification were not initialized from the model checkpoint at bert-base-cased and are newly initialized: ['classifier.bias', 'classifier.weight']\n",
      "You should probably TRAIN this model on a down-stream task to be able to use it for predictions and inference.\n"
     ]
    },
    {
     "name": "stdout",
     "output_type": "stream",
     "text": [
      "epoch 0: {'precision': np.float64(0.0), 'recall': np.float64(0.0), 'f1': np.float64(0.0), 'accuracy': 0.9029261698137891}\n",
      "epoch 1: {'precision': np.float64(0.0), 'recall': np.float64(0.0), 'f1': np.float64(0.0), 'accuracy': 0.9029261698137891}\n",
      "epoch 2: {'precision': np.float64(0.0), 'recall': np.float64(0.0), 'f1': np.float64(0.0), 'accuracy': 0.9029261698137891}\n",
      "Running configuration 43 / 54: [lr=0.01; wd=0.1; batch_size=16; warm_up=0]\n"
     ]
    },
    {
     "data": {
      "application/vnd.jupyter.widget-view+json": {
       "model_id": "c6ca14599454409a848c30ae8a1fbc05",
       "version_major": 2,
       "version_minor": 0
      },
      "text/plain": [
       "  0%|          | 0/373 [00:00<?, ?it/s]"
      ]
     },
     "metadata": {},
     "output_type": "display_data"
    },
    {
     "name": "stderr",
     "output_type": "stream",
     "text": [
      "Some weights of BertForTokenClassification were not initialized from the model checkpoint at bert-base-cased and are newly initialized: ['classifier.bias', 'classifier.weight']\n",
      "You should probably TRAIN this model on a down-stream task to be able to use it for predictions and inference.\n"
     ]
    },
    {
     "name": "stdout",
     "output_type": "stream",
     "text": [
      "epoch 0: {'precision': np.float64(0.0), 'recall': np.float64(0.0), 'f1': np.float64(0.0), 'accuracy': 0.9029261698137891}\n",
      "epoch 1: {'precision': np.float64(0.0), 'recall': np.float64(0.0), 'f1': np.float64(0.0), 'accuracy': 0.9029261698137891}\n",
      "epoch 2: {'precision': np.float64(0.0), 'recall': np.float64(0.0), 'f1': np.float64(0.0), 'accuracy': 0.9029261698137891}\n",
      "Running configuration 44 / 54: [lr=0.01; wd=0.1; batch_size=16; warm_up=100]\n"
     ]
    },
    {
     "data": {
      "application/vnd.jupyter.widget-view+json": {
       "model_id": "3ca9b5190ca947f49b4b54a9a8417901",
       "version_major": 2,
       "version_minor": 0
      },
      "text/plain": [
       "  0%|          | 0/373 [00:00<?, ?it/s]"
      ]
     },
     "metadata": {},
     "output_type": "display_data"
    },
    {
     "name": "stderr",
     "output_type": "stream",
     "text": [
      "Some weights of BertForTokenClassification were not initialized from the model checkpoint at bert-base-cased and are newly initialized: ['classifier.bias', 'classifier.weight']\n",
      "You should probably TRAIN this model on a down-stream task to be able to use it for predictions and inference.\n"
     ]
    },
    {
     "name": "stdout",
     "output_type": "stream",
     "text": [
      "epoch 0: {'precision': np.float64(0.0), 'recall': np.float64(0.0), 'f1': np.float64(0.0), 'accuracy': 0.9029261698137891}\n",
      "epoch 1: {'precision': np.float64(0.0), 'recall': np.float64(0.0), 'f1': np.float64(0.0), 'accuracy': 0.9029261698137891}\n",
      "epoch 2: {'precision': np.float64(0.0), 'recall': np.float64(0.0), 'f1': np.float64(0.0), 'accuracy': 0.9029261698137891}\n",
      "Running configuration 45 / 54: [lr=0.01; wd=0.1; batch_size=16; warm_up=500]\n"
     ]
    },
    {
     "data": {
      "application/vnd.jupyter.widget-view+json": {
       "model_id": "35bdfb0b604e4f7b998110b8abd727c0",
       "version_major": 2,
       "version_minor": 0
      },
      "text/plain": [
       "  0%|          | 0/373 [00:00<?, ?it/s]"
      ]
     },
     "metadata": {},
     "output_type": "display_data"
    },
    {
     "name": "stderr",
     "output_type": "stream",
     "text": [
      "Some weights of BertForTokenClassification were not initialized from the model checkpoint at bert-base-cased and are newly initialized: ['classifier.bias', 'classifier.weight']\n",
      "You should probably TRAIN this model on a down-stream task to be able to use it for predictions and inference.\n"
     ]
    },
    {
     "name": "stdout",
     "output_type": "stream",
     "text": [
      "epoch 0: {'precision': np.float64(0.0), 'recall': np.float64(0.0), 'f1': np.float64(0.0), 'accuracy': 0.9029261698137891}\n",
      "epoch 1: {'precision': np.float64(0.0), 'recall': np.float64(0.0), 'f1': np.float64(0.0), 'accuracy': 0.9029261698137891}\n",
      "epoch 2: {'precision': np.float64(0.0), 'recall': np.float64(0.0), 'f1': np.float64(0.0), 'accuracy': 0.9029261698137891}\n",
      "Running configuration 46 / 54: [lr=0.01; wd=0.1; batch_size=8; warm_up=0]\n"
     ]
    },
    {
     "data": {
      "application/vnd.jupyter.widget-view+json": {
       "model_id": "d348de690c36410495467a1f1cef996e",
       "version_major": 2,
       "version_minor": 0
      },
      "text/plain": [
       "  0%|          | 0/747 [00:00<?, ?it/s]"
      ]
     },
     "metadata": {},
     "output_type": "display_data"
    },
    {
     "name": "stderr",
     "output_type": "stream",
     "text": [
      "Some weights of BertForTokenClassification were not initialized from the model checkpoint at bert-base-cased and are newly initialized: ['classifier.bias', 'classifier.weight']\n",
      "You should probably TRAIN this model on a down-stream task to be able to use it for predictions and inference.\n"
     ]
    },
    {
     "name": "stdout",
     "output_type": "stream",
     "text": [
      "epoch 0: {'precision': np.float64(0.0), 'recall': np.float64(0.0), 'f1': np.float64(0.0), 'accuracy': 0.9029261698137891}\n",
      "epoch 1: {'precision': np.float64(0.0), 'recall': np.float64(0.0), 'f1': np.float64(0.0), 'accuracy': 0.9029261698137891}\n",
      "epoch 2: {'precision': np.float64(0.0), 'recall': np.float64(0.0), 'f1': np.float64(0.0), 'accuracy': 0.9029261698137891}\n",
      "Running configuration 47 / 54: [lr=0.01; wd=0.1; batch_size=8; warm_up=100]\n"
     ]
    },
    {
     "data": {
      "application/vnd.jupyter.widget-view+json": {
       "model_id": "f31bcd19b57d445d9c6ba57bec3792d0",
       "version_major": 2,
       "version_minor": 0
      },
      "text/plain": [
       "  0%|          | 0/747 [00:00<?, ?it/s]"
      ]
     },
     "metadata": {},
     "output_type": "display_data"
    },
    {
     "name": "stderr",
     "output_type": "stream",
     "text": [
      "Some weights of BertForTokenClassification were not initialized from the model checkpoint at bert-base-cased and are newly initialized: ['classifier.bias', 'classifier.weight']\n",
      "You should probably TRAIN this model on a down-stream task to be able to use it for predictions and inference.\n"
     ]
    },
    {
     "name": "stdout",
     "output_type": "stream",
     "text": [
      "epoch 0: {'precision': np.float64(0.0), 'recall': np.float64(0.0), 'f1': np.float64(0.0), 'accuracy': 0.9029261698137891}\n",
      "epoch 1: {'precision': np.float64(0.0), 'recall': np.float64(0.0), 'f1': np.float64(0.0), 'accuracy': 0.9029261698137891}\n",
      "epoch 2: {'precision': np.float64(0.0), 'recall': np.float64(0.0), 'f1': np.float64(0.0), 'accuracy': 0.9029261698137891}\n",
      "Running configuration 48 / 54: [lr=0.01; wd=0.1; batch_size=8; warm_up=500]\n"
     ]
    },
    {
     "data": {
      "application/vnd.jupyter.widget-view+json": {
       "model_id": "20fa527aaf704c4691f79efd047e54e2",
       "version_major": 2,
       "version_minor": 0
      },
      "text/plain": [
       "  0%|          | 0/747 [00:00<?, ?it/s]"
      ]
     },
     "metadata": {},
     "output_type": "display_data"
    },
    {
     "name": "stderr",
     "output_type": "stream",
     "text": [
      "Some weights of BertForTokenClassification were not initialized from the model checkpoint at bert-base-cased and are newly initialized: ['classifier.bias', 'classifier.weight']\n",
      "You should probably TRAIN this model on a down-stream task to be able to use it for predictions and inference.\n"
     ]
    },
    {
     "name": "stdout",
     "output_type": "stream",
     "text": [
      "epoch 0: {'precision': np.float64(0.0), 'recall': np.float64(0.0), 'f1': np.float64(0.0), 'accuracy': 0.9029261698137891}\n",
      "epoch 1: {'precision': np.float64(0.0), 'recall': np.float64(0.0), 'f1': np.float64(0.0), 'accuracy': 0.9029261698137891}\n",
      "epoch 2: {'precision': np.float64(0.0), 'recall': np.float64(0.0), 'f1': np.float64(0.0), 'accuracy': 0.9029261698137891}\n",
      "Running configuration 49 / 54: [lr=0.01; wd=0.01; batch_size=16; warm_up=0]\n"
     ]
    },
    {
     "data": {
      "application/vnd.jupyter.widget-view+json": {
       "model_id": "82a0f685a3134afc9562ae841bf9e5de",
       "version_major": 2,
       "version_minor": 0
      },
      "text/plain": [
       "  0%|          | 0/373 [00:00<?, ?it/s]"
      ]
     },
     "metadata": {},
     "output_type": "display_data"
    },
    {
     "name": "stderr",
     "output_type": "stream",
     "text": [
      "Some weights of BertForTokenClassification were not initialized from the model checkpoint at bert-base-cased and are newly initialized: ['classifier.bias', 'classifier.weight']\n",
      "You should probably TRAIN this model on a down-stream task to be able to use it for predictions and inference.\n"
     ]
    },
    {
     "name": "stdout",
     "output_type": "stream",
     "text": [
      "epoch 0: {'precision': np.float64(0.0), 'recall': np.float64(0.0), 'f1': np.float64(0.0), 'accuracy': 0.9029261698137891}\n",
      "epoch 1: {'precision': np.float64(0.0), 'recall': np.float64(0.0), 'f1': np.float64(0.0), 'accuracy': 0.9029261698137891}\n",
      "epoch 2: {'precision': np.float64(0.0), 'recall': np.float64(0.0), 'f1': np.float64(0.0), 'accuracy': 0.9029261698137891}\n",
      "Running configuration 50 / 54: [lr=0.01; wd=0.01; batch_size=16; warm_up=100]\n"
     ]
    },
    {
     "data": {
      "application/vnd.jupyter.widget-view+json": {
       "model_id": "f1ab77375d23490984de36e0ad331248",
       "version_major": 2,
       "version_minor": 0
      },
      "text/plain": [
       "  0%|          | 0/373 [00:00<?, ?it/s]"
      ]
     },
     "metadata": {},
     "output_type": "display_data"
    },
    {
     "name": "stderr",
     "output_type": "stream",
     "text": [
      "Some weights of BertForTokenClassification were not initialized from the model checkpoint at bert-base-cased and are newly initialized: ['classifier.bias', 'classifier.weight']\n",
      "You should probably TRAIN this model on a down-stream task to be able to use it for predictions and inference.\n"
     ]
    },
    {
     "name": "stdout",
     "output_type": "stream",
     "text": [
      "epoch 0: {'precision': np.float64(0.0), 'recall': np.float64(0.0), 'f1': np.float64(0.0), 'accuracy': 0.9029261698137891}\n",
      "epoch 1: {'precision': np.float64(0.0), 'recall': np.float64(0.0), 'f1': np.float64(0.0), 'accuracy': 0.9029261698137891}\n",
      "epoch 2: {'precision': np.float64(0.0), 'recall': np.float64(0.0), 'f1': np.float64(0.0), 'accuracy': 0.9029261698137891}\n",
      "Running configuration 51 / 54: [lr=0.01; wd=0.01; batch_size=16; warm_up=500]\n"
     ]
    },
    {
     "data": {
      "application/vnd.jupyter.widget-view+json": {
       "model_id": "124be31b00f34853a3dcbb5c9caa00ee",
       "version_major": 2,
       "version_minor": 0
      },
      "text/plain": [
       "  0%|          | 0/373 [00:00<?, ?it/s]"
      ]
     },
     "metadata": {},
     "output_type": "display_data"
    },
    {
     "name": "stderr",
     "output_type": "stream",
     "text": [
      "Some weights of BertForTokenClassification were not initialized from the model checkpoint at bert-base-cased and are newly initialized: ['classifier.bias', 'classifier.weight']\n",
      "You should probably TRAIN this model on a down-stream task to be able to use it for predictions and inference.\n"
     ]
    },
    {
     "name": "stdout",
     "output_type": "stream",
     "text": [
      "epoch 0: {'precision': np.float64(0.0), 'recall': np.float64(0.0), 'f1': np.float64(0.0), 'accuracy': 0.9029261698137891}\n",
      "epoch 1: {'precision': np.float64(0.0), 'recall': np.float64(0.0), 'f1': np.float64(0.0), 'accuracy': 0.9029261698137891}\n",
      "epoch 2: {'precision': np.float64(0.0), 'recall': np.float64(0.0), 'f1': np.float64(0.0), 'accuracy': 0.9029261698137891}\n",
      "Running configuration 52 / 54: [lr=0.01; wd=0.01; batch_size=8; warm_up=0]\n"
     ]
    },
    {
     "data": {
      "application/vnd.jupyter.widget-view+json": {
       "model_id": "0b7a574d95664f088b2449dd6e019f2e",
       "version_major": 2,
       "version_minor": 0
      },
      "text/plain": [
       "  0%|          | 0/747 [00:00<?, ?it/s]"
      ]
     },
     "metadata": {},
     "output_type": "display_data"
    },
    {
     "name": "stderr",
     "output_type": "stream",
     "text": [
      "Some weights of BertForTokenClassification were not initialized from the model checkpoint at bert-base-cased and are newly initialized: ['classifier.bias', 'classifier.weight']\n",
      "You should probably TRAIN this model on a down-stream task to be able to use it for predictions and inference.\n"
     ]
    },
    {
     "name": "stdout",
     "output_type": "stream",
     "text": [
      "epoch 0: {'precision': np.float64(0.0), 'recall': np.float64(0.0), 'f1': np.float64(0.0), 'accuracy': 0.9029261698137891}\n",
      "epoch 1: {'precision': np.float64(0.0), 'recall': np.float64(0.0), 'f1': np.float64(0.0), 'accuracy': 0.9029261698137891}\n",
      "epoch 2: {'precision': np.float64(0.0), 'recall': np.float64(0.0), 'f1': np.float64(0.0), 'accuracy': 0.9029261698137891}\n",
      "Running configuration 53 / 54: [lr=0.01; wd=0.01; batch_size=8; warm_up=100]\n"
     ]
    },
    {
     "data": {
      "application/vnd.jupyter.widget-view+json": {
       "model_id": "44c0265aafd44bfaa77a51299790c5d9",
       "version_major": 2,
       "version_minor": 0
      },
      "text/plain": [
       "  0%|          | 0/747 [00:00<?, ?it/s]"
      ]
     },
     "metadata": {},
     "output_type": "display_data"
    },
    {
     "name": "stderr",
     "output_type": "stream",
     "text": [
      "Some weights of BertForTokenClassification were not initialized from the model checkpoint at bert-base-cased and are newly initialized: ['classifier.bias', 'classifier.weight']\n",
      "You should probably TRAIN this model on a down-stream task to be able to use it for predictions and inference.\n"
     ]
    },
    {
     "name": "stdout",
     "output_type": "stream",
     "text": [
      "epoch 0: {'precision': np.float64(0.0), 'recall': np.float64(0.0), 'f1': np.float64(0.0), 'accuracy': 0.9029261698137891}\n",
      "epoch 1: {'precision': np.float64(0.0), 'recall': np.float64(0.0), 'f1': np.float64(0.0), 'accuracy': 0.9029261698137891}\n",
      "epoch 2: {'precision': np.float64(0.0), 'recall': np.float64(0.0), 'f1': np.float64(0.0), 'accuracy': 0.9029261698137891}\n",
      "Running configuration 54 / 54: [lr=0.01; wd=0.01; batch_size=8; warm_up=500]\n"
     ]
    },
    {
     "data": {
      "application/vnd.jupyter.widget-view+json": {
       "model_id": "a2359519692741688735354498babca1",
       "version_major": 2,
       "version_minor": 0
      },
      "text/plain": [
       "  0%|          | 0/747 [00:00<?, ?it/s]"
      ]
     },
     "metadata": {},
     "output_type": "display_data"
    },
    {
     "name": "stderr",
     "output_type": "stream",
     "text": [
      "Some weights of BertForTokenClassification were not initialized from the model checkpoint at bert-base-cased and are newly initialized: ['classifier.bias', 'classifier.weight']\n",
      "You should probably TRAIN this model on a down-stream task to be able to use it for predictions and inference.\n"
     ]
    },
    {
     "name": "stdout",
     "output_type": "stream",
     "text": [
      "epoch 0: {'precision': np.float64(0.0), 'recall': np.float64(0.0), 'f1': np.float64(0.0), 'accuracy': 0.9029261698137891}\n",
      "epoch 1: {'precision': np.float64(0.0), 'recall': np.float64(0.0), 'f1': np.float64(0.0), 'accuracy': 0.9029261698137891}\n",
      "epoch 2: {'precision': np.float64(0.0), 'recall': np.float64(0.0), 'f1': np.float64(0.0), 'accuracy': 0.9029261698137891}\n"
     ]
    }
   ],
   "source": [
    "import gc\n",
    "\n",
    "\n",
    "total_configs = len(params_list)\n",
    "print(f\"Total Hyperparameter Configurations to Test: {total_configs}\\n\")\n",
    "\n",
    "all_results = {}\n",
    "best_f1 = 0.0\n",
    "best_model = None\n",
    "\n",
    "\"\"\"\n",
    "# Uncomment if run out of memory and don't want to restart the kernel\n",
    "\n",
    "del model, optimizer, train_dataloader, eval_dataloader\n",
    "torch.cuda.empty_cache()\n",
    "gc.collect()\n",
    "\"\"\"\n",
    "\n",
    "for i, params in enumerate(params_list):\n",
    "    run_id = '[lr={}; wd={}; batch_size={}; warm_up={}]'.format(\n",
    "        params['lr'], params['wd'], params['batch_size'], params['warm_up']\n",
    "    )\n",
    "    all_results[run_id] = {}\n",
    "    print(f\"Running configuration {i + 1} / {total_configs}: {run_id}\")\n",
    "    num_training_steps = num_train_epochs * len(data_tokenized['train']) // params['batch_size']\n",
    "    progress_bar = tqdm(range(num_training_steps))\n",
    "    metric = evaluate.load('seqeval')\n",
    "    model = AutoModelForTokenClassification.from_pretrained(\n",
    "        model_checkpoint, id2label=id2label, label2id=label2id\n",
    "    )\n",
    "    optimizer = AdamW(model.parameters(), \n",
    "                      lr=params['lr'],\n",
    "                      weight_decay=params['wd'])\n",
    "\n",
    "    train_dataloader = DataLoader(\n",
    "        data_tokenized['train'],\n",
    "        shuffle=True,\n",
    "        collate_fn=data_collator,\n",
    "        batch_size=params['batch_size'],\n",
    "    )\n",
    "\n",
    "    eval_dataloader = DataLoader(\n",
    "        data_tokenized['val'],\n",
    "        collate_fn=data_collator,\n",
    "        batch_size=params['batch_size'],\n",
    "    )\n",
    "\n",
    "    accelerator = Accelerator() # smaller precision to avoid memory issues\n",
    "    model, optimizer, train_dataloader, eval_dataloader = accelerator.prepare(\n",
    "        model, optimizer, train_dataloader, eval_dataloader\n",
    "    )\n",
    "\n",
    "    num_update_steps_per_epoch = len(train_dataloader)\n",
    "    num_training_steps = num_train_epochs * num_update_steps_per_epoch\n",
    "\n",
    "    lr_scheduler = get_scheduler(\n",
    "        'linear',\n",
    "        optimizer=optimizer,\n",
    "        num_warmup_steps=params['warm_up'],\n",
    "        num_training_steps=num_training_steps\n",
    "    )\n",
    "    for epoch in range(num_train_epochs):\n",
    "        model.train()\n",
    "        for batch in train_dataloader:\n",
    "            gc.collect() \n",
    "            outputs = model(**batch)\n",
    "            loss = outputs.loss\n",
    "            loss.backward()\n",
    "            optimizer.step()\n",
    "            lr_scheduler.step()\n",
    "            optimizer.zero_grad()\n",
    "            progress_bar.update(1)\n",
    "\n",
    "        model.eval()\n",
    "        for batch in eval_dataloader:\n",
    "            with torch.no_grad():\n",
    "                outputs = model(**batch)\n",
    "            \n",
    "            predictions = outputs.logits.argmax(dim=-1)\n",
    "            labels = batch['labels']\n",
    "            predictions_padded = accelerator.pad_across_processes(predictions, \n",
    "                                                                dim=1, \n",
    "                                                                pad_index=-100)\n",
    "            labels_padded = accelerator.pad_across_processes(labels, \n",
    "                                                            dim=1, \n",
    "                                                            pad_index=-100)\n",
    "            predictions_gathered = accelerator.gather(predictions_padded)\n",
    "            labels_gathered = accelerator.gather(labels_padded)\n",
    "\n",
    "            true_predictions, true_labels = postprocess(predictions_gathered,\n",
    "                                                        labels_gathered)\n",
    "\n",
    "            metric.add_batch(predictions=true_predictions, references=true_labels)\n",
    "            \n",
    "        all_results[run_id][epoch] = metric.compute()\n",
    "        print(\n",
    "            f\"epoch {epoch}:\",\n",
    "            {\n",
    "                key: all_results[run_id][epoch][f\"overall_{key}\"]\n",
    "                for key in [\"precision\", \"recall\", \"f1\", \"accuracy\"]\n",
    "            },\n",
    "        )\n",
    "        accelerator.wait_for_everyone()\n",
    "        if all_results[run_id][epoch]['overall_f1'] > best_f1:\n",
    "            best_f1 = all_results[run_id][epoch]['overall_f1']\n",
    "            unwrapped_model = accelerator.unwrap_model(model)\n",
    "            best_model = unwrapped_model\n",
    "    \n",
    "    # Clean up memory so it does not build up\n",
    "    del model, optimizer, train_dataloader, eval_dataloader\n",
    "    torch.cuda.empty_cache()\n",
    "    gc.collect()\n",
    "            \n",
    "\n",
    "best_model.save_pretrained(best_model_dir, save_function=accelerator.save)\n",
    "if accelerator.is_main_process:\n",
    "    tokenizer.save_pretrained(best_model_dir)\n",
    "    #repo.push_to_hub(commit_message=f\"Best optimized model\", blocking=False)"
   ]
  },
  {
   "cell_type": "markdown",
   "metadata": {},
   "source": [
    "## Analyze the results"
   ]
  },
  {
   "cell_type": "code",
   "execution_count": 85,
   "metadata": {},
   "outputs": [
    {
     "name": "stdout",
     "output_type": "stream",
     "text": [
      "Top 3 Configurations:\n",
      "         lr   wd  batch_size  warm_up  best_f1\n",
      "25  0.00010  0.1          16      100   0.5922\n",
      "22  0.00010  0.0           8      100   0.5896\n",
      "3   0.00002  0.0           8        0   0.5883\n",
      "\n",
      "Average Mean Performance for Each Hyperparameter Value:\n",
      "   Hyperparameter      Value  Mean Best F1\n",
      "0      Batch Size    8.00000        0.3807\n",
      "1      Batch Size   16.00000        0.3631\n",
      "2   Learning Rate    0.00002        0.5464\n",
      "3   Learning Rate    0.00010        0.5693\n",
      "4   Learning Rate    0.01000        0.0000\n",
      "5   Warm Up Steps    0.00000        0.3744\n",
      "6   Warm Up Steps  100.00000        0.3786\n",
      "7   Warm Up Steps  500.00000        0.3627\n",
      "8    Weight Decay    0.00000        0.3743\n",
      "9    Weight Decay    0.01000        0.3722\n",
      "10   Weight Decay    0.10000        0.3692\n",
      "\n",
      "ANOVA Results:\n",
      "               sum_sq    df          F  PR(>F)\n",
      "C(lr)          3.7390   2.0  7354.1287  0.0000\n",
      "C(wd)          0.0002   2.0     0.4629  0.6324\n",
      "C(batch_size)  0.0042   1.0    16.5054  0.0002\n",
      "C(warm_up)     0.0025   2.0     4.8421  0.0123\n",
      "Residual       0.0117  46.0        NaN     NaN\n"
     ]
    }
   ],
   "source": [
    "import pandas as pd\n",
    "import re\n",
    "import statsmodels.api as sm\n",
    "from statsmodels.formula.api import ols\n",
    "\n",
    "results_list = []\n",
    "\n",
    "# Creates list of the with desired hyperparameters and F1 score\n",
    "for run_id in all_results:\n",
    "    hyperparams = re.findall(r'(\\w+)=([^\\];]+)', run_id)\n",
    "    hyperparam_dict = {k: v for k, v in hyperparams}\n",
    "    \n",
    "    best_epoch = None\n",
    "    best_f1 = -1.0  \n",
    "    \n",
    "    for epoch in all_results[run_id]:\n",
    "        epoch_metrics = all_results[run_id][epoch]\n",
    "        if 'overall_f1' in epoch_metrics:\n",
    "            f1_score = epoch_metrics['overall_f1']\n",
    "            if f1_score > best_f1:\n",
    "                best_f1 = f1_score\n",
    "                best_epoch = epoch\n",
    "    \n",
    "    if best_f1 >= 0:\n",
    "        result_entry = {\n",
    "            'run_id': run_id,\n",
    "            'lr': float(hyperparam_dict.get('lr', '0')),\n",
    "            'wd': float(hyperparam_dict.get('wd', '0')),\n",
    "            'batch_size': int(hyperparam_dict.get('batch_size', '0')),\n",
    "            'warm_up': int(hyperparam_dict.get('warm_up', '0')),  # Added warm_up\n",
    "            'best_epoch': best_epoch,\n",
    "            'best_f1': best_f1,\n",
    "        }\n",
    "        results_list.append(result_entry)\n",
    "\n",
    "results_df = pd.DataFrame(results_list)\n",
    "\n",
    "results_df['best_f1'] = results_df['best_f1'].round(4)\n",
    "\n",
    "top_3 = results_df.sort_values(by='best_f1', ascending=False).head(3)\n",
    "print(\"Top 3 Configurations:\")\n",
    "print(top_3[['lr', 'wd', 'batch_size', 'warm_up', 'best_f1']])\n",
    "\n",
    "\n",
    "# Combine average mean performance for each hyperparameter into one table\n",
    "\n",
    "lr_mean_performance = results_df.groupby('lr')['best_f1'].mean().reset_index()\n",
    "lr_mean_performance['Hyperparameter'] = 'Learning Rate'\n",
    "lr_mean_performance.rename(columns={'lr': 'Value', 'best_f1': 'Mean Best F1'}, inplace=True)\n",
    "\n",
    "wd_mean_performance = results_df.groupby('wd')['best_f1'].mean().reset_index()\n",
    "wd_mean_performance['Hyperparameter'] = 'Weight Decay'\n",
    "wd_mean_performance.rename(columns={'wd': 'Value', 'best_f1': 'Mean Best F1'}, inplace=True)\n",
    "\n",
    "batch_size_mean_performance = results_df.groupby('batch_size')['best_f1'].mean().reset_index()\n",
    "batch_size_mean_performance['Hyperparameter'] = 'Batch Size'\n",
    "batch_size_mean_performance.rename(columns={'batch_size': 'Value', 'best_f1': 'Mean Best F1'}, inplace=True)\n",
    "\n",
    "warm_up_mean_performance = results_df.groupby('warm_up')['best_f1'].mean().reset_index()\n",
    "warm_up_mean_performance['Hyperparameter'] = 'Warm Up Steps'\n",
    "warm_up_mean_performance.rename(columns={'warm_up': 'Value', 'best_f1': 'Mean Best F1'}, inplace=True)\n",
    "\n",
    "# Round to 4 decimal places\n",
    "lr_mean_performance['Mean Best F1'] = lr_mean_performance['Mean Best F1'].round(4)\n",
    "wd_mean_performance['Mean Best F1'] = wd_mean_performance['Mean Best F1'].round(4)\n",
    "batch_size_mean_performance['Mean Best F1'] = batch_size_mean_performance['Mean Best F1'].round(4)\n",
    "warm_up_mean_performance['Mean Best F1'] = warm_up_mean_performance['Mean Best F1'].round(4)\n",
    "\n",
    "# Convert to int\n",
    "batch_size_mean_performance['Value'] = batch_size_mean_performance['Value'].astype(int)\n",
    "warm_up_mean_performance['Value'] = warm_up_mean_performance['Value'].astype(int)\n",
    "\n",
    "# Combine all into one DataFrame\n",
    "mean_performance_df = pd.concat(\n",
    "    [lr_mean_performance, wd_mean_performance, batch_size_mean_performance, warm_up_mean_performance],\n",
    "    ignore_index=True\n",
    ")\n",
    "\n",
    "# Reorder columns\n",
    "mean_performance_df = mean_performance_df[['Hyperparameter', 'Value', 'Mean Best F1']]\n",
    "\n",
    "mean_performance_df = mean_performance_df.sort_values(by=['Hyperparameter', 'Value'])\n",
    "\n",
    "mean_performance_df = mean_performance_df.reset_index(drop=True)\n",
    "\n",
    "print(\"\\nAverage Mean Performance for Each Hyperparameter Value:\")\n",
    "print(mean_performance_df)\n",
    "\n",
    "# Perform ANOVA to assess the significance of each hyperparameter\n",
    "anova_df = results_df.copy()\n",
    "anova_df['lr'] = anova_df['lr'].astype('category')\n",
    "anova_df['wd'] = anova_df['wd'].astype('category')\n",
    "anova_df['batch_size'] = anova_df['batch_size'].astype('category')\n",
    "anova_df['warm_up'] = anova_df['warm_up'].astype('category')\n",
    "\n",
    "formula = 'best_f1 ~ C(lr) + C(wd) + C(batch_size) + C(warm_up)'\n",
    "\n",
    "model = ols(formula, data=anova_df).fit()\n",
    "\n",
    "# Perform ANOVA\n",
    "anova_table = sm.stats.anova_lm(model, typ=2)  # Type II ANOVA DataFrame\n",
    "\n",
    "anova_table = anova_table.round(4)\n",
    "\n",
    "print(\"\\nANOVA Results:\")\n",
    "print(anova_table)\n"
   ]
  },
  {
   "cell_type": "markdown",
   "metadata": {},
   "source": [
    "## Run the best config on the test set."
   ]
  },
  {
   "cell_type": "code",
   "execution_count": 87,
   "metadata": {},
   "outputs": [
    {
     "name": "stderr",
     "output_type": "stream",
     "text": [
      "Some weights of BertForTokenClassification were not initialized from the model checkpoint at bert-base-cased and are newly initialized: ['classifier.bias', 'classifier.weight']\n",
      "You should probably TRAIN this model on a down-stream task to be able to use it for predictions and inference.\n",
      "/vol/home/s4422090/.local/lib/python3.12/site-packages/transformers/training_args.py:1559: FutureWarning: `evaluation_strategy` is deprecated and will be removed in version 4.46 of 🤗 Transformers. Use `eval_strategy` instead\n",
      "  warnings.warn(\n"
     ]
    },
    {
     "data": {
      "text/html": [
       "\n",
       "    <div>\n",
       "      \n",
       "      <progress value='375' max='375' style='width:300px; height:20px; vertical-align: middle;'></progress>\n",
       "      [375/375 01:41, Epoch 3/3]\n",
       "    </div>\n",
       "    <table border=\"1\" class=\"dataframe\">\n",
       "  <thead>\n",
       " <tr style=\"text-align: left;\">\n",
       "      <th>Epoch</th>\n",
       "      <th>Training Loss</th>\n",
       "      <th>Validation Loss</th>\n",
       "      <th>Precision</th>\n",
       "      <th>Recall</th>\n",
       "      <th>F1</th>\n",
       "      <th>Accuracy</th>\n",
       "    </tr>\n",
       "  </thead>\n",
       "  <tbody>\n",
       "    <tr>\n",
       "      <td>1</td>\n",
       "      <td>No log</td>\n",
       "      <td>0.207983</td>\n",
       "      <td>0.486649</td>\n",
       "      <td>0.581276</td>\n",
       "      <td>0.529770</td>\n",
       "      <td>0.943962</td>\n",
       "    </tr>\n",
       "    <tr>\n",
       "      <td>2</td>\n",
       "      <td>No log</td>\n",
       "      <td>0.211561</td>\n",
       "      <td>0.503491</td>\n",
       "      <td>0.667695</td>\n",
       "      <td>0.574082</td>\n",
       "      <td>0.946841</td>\n",
       "    </tr>\n",
       "    <tr>\n",
       "      <td>3</td>\n",
       "      <td>No log</td>\n",
       "      <td>0.238728</td>\n",
       "      <td>0.520440</td>\n",
       "      <td>0.681070</td>\n",
       "      <td>0.590018</td>\n",
       "      <td>0.945009</td>\n",
       "    </tr>\n",
       "  </tbody>\n",
       "</table><p>"
      ],
      "text/plain": [
       "<IPython.core.display.HTML object>"
      ]
     },
     "metadata": {},
     "output_type": "display_data"
    },
    {
     "data": {
      "text/html": [],
      "text/plain": [
       "<IPython.core.display.HTML object>"
      ]
     },
     "metadata": {},
     "output_type": "display_data"
    },
    {
     "name": "stdout",
     "output_type": "stream",
     "text": [
      "Precision on Test Set: 0.5864\n",
      "Recall on Test Set: 0.7186\n",
      "F1 Score on Test Set: 0.6458\n"
     ]
    }
   ],
   "source": [
    "\n",
    "data_collator = DataCollatorForTokenClassification(tokenizer)\n",
    "metric = evaluate.load('seqeval')\n",
    "\n",
    "model = AutoModelForTokenClassification.from_pretrained(\n",
    "    base_model_checkpoint,\n",
    "    id2label=id2label,\n",
    "    label2id=label2id,\n",
    ")\n",
    "\n",
    "args = TrainingArguments(\n",
    "    output_dir=model_name,  \n",
    "    evaluation_strategy=\"epoch\",  \n",
    "    save_strategy=\"epoch\",  \n",
    "    learning_rate=0.00010, \n",
    "    num_train_epochs=3,  \n",
    "    weight_decay=0.1,  \n",
    "    per_device_train_batch_size=16,  \n",
    "    per_device_eval_batch_size=16,  \n",
    "    warmup_steps=100,  \n",
    ")\n",
    "\n",
    "trainer = Trainer(\n",
    "    model=model,\n",
    "    args=args,\n",
    "    train_dataset=data_tokenized[\"train\"],\n",
    "    eval_dataset=data_tokenized[\"val\"],\n",
    "    data_collator=data_collator,\n",
    "    compute_metrics=compute_metrics,\n",
    "    processing_class=tokenizer,\n",
    ")\n",
    "\n",
    "trainer.train()\n",
    "\n",
    "test_results = trainer.predict(data_tokenized[\"test\"])\n",
    "test_predictions, test_labels, _ = test_results\n",
    "\n",
    "test_predictions = np.argmax(test_predictions, axis=2)\n",
    "\n",
    "true_test_predictions = [\n",
    "    [id2label[pred] for (pred, lab) in zip(prediction, label) if lab != -100]\n",
    "    for prediction, label in zip(test_predictions, test_labels)\n",
    "]\n",
    "true_test_labels = [\n",
    "    [id2label[lab] for (pred, lab) in zip(prediction, label) if lab != -100]\n",
    "    for label, prediction in zip(test_labels, test_predictions)\n",
    "]\n",
    "\n",
    "# Compute metrics\n",
    "results = metric.compute(predictions=true_test_predictions, references=true_test_labels)\n",
    "\n",
    "precision = results[\"overall_precision\"]\n",
    "recall = results[\"overall_recall\"]\n",
    "f1 = results[\"overall_f1\"]\n",
    "\n",
    "print(f\"Precision on Test Set: {precision:.4f}\")\n",
    "print(f\"Recall on Test Set: {recall:.4f}\")\n",
    "print(f\"F1 Score on Test Set: {f1:.4f}\")\n"
   ]
  },
  {
   "cell_type": "markdown",
   "metadata": {},
   "source": [
    "## Final Evaluation "
   ]
  },
  {
   "cell_type": "code",
   "execution_count": 99,
   "metadata": {},
   "outputs": [
    {
     "data": {
      "text/html": [
       "\n",
       "    <div>\n",
       "      \n",
       "      <progress value='2' max='54' style='width:300px; height:20px; vertical-align: middle;'></progress>\n",
       "      [ 2/54 00:00 < 00:00, 52.62 it/s]\n",
       "    </div>\n",
       "    "
      ],
      "text/plain": [
       "<IPython.core.display.HTML object>"
      ]
     },
     "metadata": {},
     "output_type": "display_data"
    },
    {
     "name": "stdout",
     "output_type": "stream",
     "text": [
      "Per-Token Metrics on the Test Set:\n",
      "Label: O\n",
      "  Precision: 0.9814\n",
      "  Recall:    0.9812\n",
      "  F1-score:  0.9813\n",
      "  Support:   20026.0\n",
      "\n",
      "Label: B-ART\n",
      "  Precision: 0.5701\n",
      "  Recall:    0.7262\n",
      "  F1-score:  0.6387\n",
      "  Support:   168.0\n",
      "\n",
      "Label: I-ART\n",
      "  Precision: 0.6790\n",
      "  Recall:    0.5392\n",
      "  F1-score:  0.6011\n",
      "  Support:   204.0\n",
      "\n",
      "Label: B-CON\n",
      "  Precision: 0.4783\n",
      "  Recall:    0.5986\n",
      "  F1-score:  0.5317\n",
      "  Support:   147.0\n",
      "\n",
      "Label: I-CON\n",
      "  Precision: 0.5534\n",
      "  Recall:    0.3958\n",
      "  F1-score:  0.4615\n",
      "  Support:   144.0\n",
      "\n",
      "Label: B-LOC\n",
      "  Precision: 0.7457\n",
      "  Recall:    0.8958\n",
      "  F1-score:  0.8139\n",
      "  Support:   144.0\n",
      "\n",
      "Label: I-LOC\n",
      "  Precision: 0.8383\n",
      "  Recall:    0.8563\n",
      "  F1-score:  0.8472\n",
      "  Support:   327.0\n",
      "\n",
      "Label: B-MAT\n",
      "  Precision: 0.4865\n",
      "  Recall:    0.3051\n",
      "  F1-score:  0.3750\n",
      "  Support:   59.0\n",
      "\n",
      "Label: I-MAT\n",
      "  Precision: 0.9167\n",
      "  Recall:    0.4074\n",
      "  F1-score:  0.5641\n",
      "  Support:   54.0\n",
      "\n",
      "Label: B-PER\n",
      "  Precision: 0.8092\n",
      "  Recall:    0.9293\n",
      "  F1-score:  0.8651\n",
      "  Support:   283.0\n",
      "\n",
      "Label: I-PER\n",
      "  Precision: 0.8598\n",
      "  Recall:    0.7828\n",
      "  F1-score:  0.8195\n",
      "  Support:   290.0\n",
      "\n",
      "Label: B-SPE\n",
      "  Precision: 0.1667\n",
      "  Recall:    0.5000\n",
      "  F1-score:  0.2500\n",
      "  Support:   2.0\n",
      "\n",
      "Macro-Average F1 Score (Token-Level) on Test Set: 0.6458\n",
      "\n",
      "Entity-Level Metrics on the Test Set:\n",
      "Entity Type: ART\n",
      "  Precision: 0.4955\n",
      "  Recall:    0.6607\n",
      "  F1-score:  0.5663\n",
      "  Support:   168\n",
      "\n",
      "Entity Type: CON\n",
      "  Precision: 0.4308\n",
      "  Recall:    0.5714\n",
      "  F1-score:  0.4912\n",
      "  Support:   147\n",
      "\n",
      "Entity Type: LOC\n",
      "  Precision: 0.6354\n",
      "  Recall:    0.7986\n",
      "  F1-score:  0.7077\n",
      "  Support:   144\n",
      "\n",
      "Entity Type: MAT\n",
      "  Precision: 0.3261\n",
      "  Recall:    0.2542\n",
      "  F1-score:  0.2857\n",
      "  Support:   59\n",
      "\n",
      "Entity Type: PER\n",
      "  Precision: 0.7560\n",
      "  Recall:    0.8869\n",
      "  F1-score:  0.8163\n",
      "  Support:   283\n",
      "\n",
      "Entity Type: SPE\n",
      "  Precision: 0.1667\n",
      "  Recall:    0.5000\n",
      "  F1-score:  0.2500\n",
      "  Support:   2\n",
      "\n",
      "Entity Type: micro avg\n",
      "  Precision: 0.5864\n",
      "  Recall:    0.7186\n",
      "  F1-score:  0.6458\n",
      "  Support:   803\n",
      "\n",
      "Macro-Average F1 Score (Entity-Level) on Test Set: 0.5195\n",
      "\n",
      "Per-Token Metrics on the Test Set (B, I, O labels):\n",
      "Label: B\n",
      "  Precision: 0.6965\n",
      "  Recall:    0.8144\n",
      "  F1-score:  0.7509\n",
      "  Support:   803.0\n",
      "\n",
      "Label: I\n",
      "  Precision: 0.8129\n",
      "  Recall:    0.7076\n",
      "  F1-score:  0.7566\n",
      "  Support:   1019.0\n",
      "\n",
      "Label: O\n",
      "  Precision: 0.9814\n",
      "  Recall:    0.9812\n",
      "  F1-score:  0.9813\n",
      "  Support:   20026.0\n",
      "\n",
      "Macro-Average F1 Score (Token-Level, BIO) on Test Set: 0.8296\n"
     ]
    }
   ],
   "source": [
    "from seqeval.metrics import classification_report as seqeval_classification_report\n",
    "from sklearn.metrics import classification_report\n",
    "\n",
    "# Evaluate on the test set\n",
    "test_results = trainer.predict(data_tokenized[\"test\"])\n",
    "test_predictions, test_labels, _ = test_results\n",
    "\n",
    "test_predictions = np.argmax(test_predictions, axis=2)\n",
    "\n",
    "true_test_predictions = [\n",
    "    [label_names[pred] for (pred, lab) in zip(prediction, label) if lab != -100]\n",
    "    for prediction, label in zip(test_predictions, test_labels)\n",
    "]\n",
    "true_test_labels = [\n",
    "    [label_names[lab] for (lab, pred) in zip(label, prediction) if lab != -100]\n",
    "    for label, prediction in zip(test_labels, test_predictions)\n",
    "]\n",
    "\n",
    "\n",
    "flat_true_test_labels = [item for sublist in true_test_labels for item in sublist]\n",
    "flat_true_test_predictions = [item for sublist in true_test_predictions for item in sublist]\n",
    "\n",
    "unique_labels = [label for label in label_names if label in set(flat_true_test_labels + flat_true_test_predictions)]\n",
    "\n",
    "# Generate per-token classification report\n",
    "token_report = classification_report(\n",
    "    flat_true_test_labels,\n",
    "    flat_true_test_predictions,\n",
    "    labels=unique_labels,\n",
    "    output_dict=True,\n",
    "    zero_division=0,\n",
    ")\n",
    "\n",
    "# Per-token metrics\n",
    "print(\"Per-Token Metrics on the Test Set:\")\n",
    "for label in unique_labels:\n",
    "    precision = token_report[label]['precision']\n",
    "    recall = token_report[label]['recall']\n",
    "    f1_score = token_report[label]['f1-score']\n",
    "    support = token_report[label]['support']\n",
    "    print(f\"Label: {label}\")\n",
    "    print(f\"  Precision: {precision:.4f}\")\n",
    "    print(f\"  Recall:    {recall:.4f}\")\n",
    "    print(f\"  F1-score:  {f1_score:.4f}\")\n",
    "    print(f\"  Support:   {support}\\n\")\n",
    "\n",
    "macro_f1_token = token_report['macro avg']['f1-score']\n",
    "print(f\"Macro-Average F1 Score (Token-Level) on Test Set: {macro_f1_token:.4f}\")\n",
    "\n",
    "entity_report = seqeval_classification_report(\n",
    "    true_test_labels,\n",
    "    true_test_predictions,\n",
    "    output_dict=True,\n",
    "    zero_division=0,\n",
    ")\n",
    "\n",
    "# Per Entity metrics\n",
    "print(\"\\nEntity-Level Metrics on the Test Set:\")\n",
    "for entity_type in entity_report:\n",
    "    if entity_type in ['macro avg', 'weighted avg']:\n",
    "        continue\n",
    "    precision = entity_report[entity_type]['precision']\n",
    "    recall = entity_report[entity_type]['recall']\n",
    "    f1_score = entity_report[entity_type]['f1-score']\n",
    "    support = entity_report[entity_type]['support']\n",
    "    print(f\"Entity Type: {entity_type}\")\n",
    "    print(f\"  Precision: {precision:.4f}\")\n",
    "    print(f\"  Recall:    {recall:.4f}\")\n",
    "    print(f\"  F1-score:  {f1_score:.4f}\")\n",
    "    print(f\"  Support:   {support}\\n\")\n",
    "\n",
    "macro_f1_entity = entity_report['macro avg']['f1-score']\n",
    "print(f\"Macro-Average F1 Score (Entity-Level) on Test Set: {macro_f1_entity:.4f}\")\n",
    "\n",
    "\n",
    "\n",
    "# Per Prefix metrics\n",
    "# Map labels to 'B', 'I', or 'O' by stripping the entity type\n",
    "true_test_predictions_bio = [\n",
    "    [label.split('-')[0] if label != 'O' else 'O' for label in seq]\n",
    "    for seq in true_test_predictions\n",
    "]\n",
    "true_test_labels_bio = [\n",
    "    [label.split('-')[0] if label != 'O' else 'O' for label in seq]\n",
    "    for seq in true_test_labels\n",
    "]\n",
    "\n",
    "flat_true_test_labels_bio = [item for sublist in true_test_labels_bio for item in sublist]\n",
    "flat_true_test_predictions_bio = [item for sublist in true_test_predictions_bio for item in sublist]\n",
    "\n",
    "unique_labels_bio = ['B', 'I', 'O']\n",
    "\n",
    "token_report_bio = classification_report(\n",
    "    flat_true_test_labels_bio,\n",
    "    flat_true_test_predictions_bio,\n",
    "    labels=unique_labels_bio,\n",
    "    output_dict=True,\n",
    "    zero_division=0,\n",
    ")\n",
    "\n",
    "print(\"\\nPer-Token Metrics on the Test Set (B, I, O labels):\")\n",
    "for label in unique_labels_bio:\n",
    "    precision = token_report_bio[label]['precision']\n",
    "    recall = token_report_bio[label]['recall']\n",
    "    f1_score = token_report_bio[label]['f1-score']\n",
    "    support = token_report_bio[label]['support']\n",
    "    print(f\"Label: {label}\")\n",
    "    print(f\"  Precision: {precision:.4f}\")\n",
    "    print(f\"  Recall:    {recall:.4f}\")\n",
    "    print(f\"  F1-score:  {f1_score:.4f}\")\n",
    "    print(f\"  Support:   {support}\\n\")\n",
    "\n",
    "macro_f1_token_bio = token_report_bio['macro avg']['f1-score']\n",
    "print(f\"Macro-Average F1 Score (Token-Level, BIO) on Test Set: {macro_f1_token_bio:.4f}\")\n"
   ]
  },
  {
   "cell_type": "code",
   "execution_count": 108,
   "metadata": {},
   "outputs": [
    {
     "data": {
      "image/png": "[encoded data removed]",
      "text/plain": [
       "<Figure size 1400x800 with 1 Axes>"
      ]
     },
     "metadata": {},
     "output_type": "display_data"
    },
    {
     "data": {
      "image/png": "[encoded data removed]",
      "text/plain": [
       "<Figure size 1400x800 with 1 Axes>"
      ]
     },
     "metadata": {},
     "output_type": "display_data"
    }
   ],
   "source": [
    "\n",
    "%matplotlib inline\n",
    "\n",
    "token_metrics = {label: metrics for label, metrics in token_report.items()\n",
    "                 if label not in ['micro avg', 'macro avg', 'weighted avg', 'accuracy']}\n",
    "\n",
    "token_df = pd.DataFrame(token_metrics).T.reset_index().rename(columns={'index': 'Label'})\n",
    "token_df = token_df[['Label', 'precision', 'recall', 'f1-score', 'support']]\n",
    "\n",
    "token_melted = token_df.melt(\n",
    "    id_vars=['Label', 'support'],\n",
    "    value_vars=['precision', 'recall', 'f1-score'],\n",
    "    var_name='Metric',\n",
    "    value_name='Score'\n",
    ")\n",
    "\n",
    "entity_metrics = {label: metrics for label, metrics in entity_report.items()\n",
    "                  if label not in ['micro avg', 'macro avg', 'weighted avg']}\n",
    "\n",
    "entity_df = pd.DataFrame(entity_metrics).T.reset_index().rename(columns={'index': 'Entity Type'})\n",
    "entity_df = entity_df[['Entity Type', 'precision', 'recall', 'f1-score', 'support']]\n",
    "\n",
    "bio_metrics = {label: metrics for label, metrics in token_report_bio.items() if label in ['B', 'I', 'O']}\n",
    "\n",
    "bio_df = pd.DataFrame(bio_metrics).T.reset_index().rename(columns={'index': 'Entity Type'})\n",
    "bio_df = bio_df[['Entity Type', 'precision', 'recall', 'f1-score', 'support']]\n",
    "\n",
    "# Combine 'B', 'I', and 'O' metrics with Entity-Level Metrics\n",
    "entity_df_combined = pd.concat([entity_df, bio_df], ignore_index=True)\n",
    "\n",
    "\n",
    "entity_melted_combined = entity_df_combined.melt(\n",
    "    id_vars=['Entity Type', 'support'],\n",
    "    value_vars=['precision', 'recall', 'f1-score'],\n",
    "    var_name='Metric',\n",
    "    value_name='Score'\n",
    ")\n",
    "\n",
    "# Order 'B', 'I', O'\n",
    "\n",
    "other_entities = sorted([\n",
    "    et for et in entity_df_combined['Entity Type'].unique()\n",
    "    if et not in ['B', 'I', 'O']\n",
    "])\n",
    "desired_order = ['B', 'I', 'O'] + other_entities\n",
    "\n",
    "entity_melted_combined['Entity Type'] = pd.Categorical(\n",
    "    entity_melted_combined['Entity Type'],\n",
    "    categories=desired_order,\n",
    "    ordered=True\n",
    ")\n",
    "\n",
    "# %%\n",
    "# Plot 1: Per-Token Metrics\n",
    "plt.figure(figsize=(14, 8))\n",
    "sns.barplot(\n",
    "    x='Label',\n",
    "    y='Score',\n",
    "    hue='Metric',\n",
    "    data=token_melted,\n",
    "    palette='Set2'\n",
    ")\n",
    "plt.title('Per-Token Precision, Recall, and F1-Score on Test Set')\n",
    "plt.ylim(0, 1)\n",
    "plt.ylabel('Score')\n",
    "plt.xlabel('Token Label')\n",
    "plt.legend(title='Metric')\n",
    "plt.show()\n",
    "\n",
    "# %%\n",
    "# Plot 2: Entity-Level Metrics including 'B', 'I', and 'O'\n",
    "plt.figure(figsize=(14, 8))\n",
    "sns.barplot(\n",
    "    x='Entity Type',\n",
    "    y='Score',\n",
    "    hue='Metric',\n",
    "    data=entity_melted_combined,\n",
    "    palette='Set3'\n",
    ")\n",
    "plt.title('Entity-Level Precision, Recall, and F1-Score on Test Set (Including \\'B\\', \\'I\\', and \\'O\\' Tokens)')\n",
    "plt.ylim(0, 1)\n",
    "plt.ylabel('Score')\n",
    "plt.xlabel('Entity Type')\n",
    "plt.legend(title='Metric')\n",
    "plt.xticks(rotation=45)\n",
    "plt.tight_layout()\n",
    "plt.show()\n"
   ]
  },
  {
   "cell_type": "code",
   "execution_count": null,
   "metadata": {},
   "outputs": [],
   "source": []
  },
  {
   "cell_type": "code",
   "execution_count": null,
   "metadata": {},
   "outputs": [],
   "source": []
  }
 ],
 "metadata": {
  "kernelspec": {
   "display_name": "IDL",
   "language": "python",
   "name": "python3"
  },
  "language_info": {
   "codemirror_mode": {
    "name": "ipython",
    "version": 3
   },
   "file_extension": ".py",
   "mimetype": "text/x-python",
   "name": "python",
   "nbconvert_exporter": "python",
   "pygments_lexer": "ipython3",
   "version": "3.12.7"
  }
 },
 "nbformat": 4,
 "nbformat_minor": 2
}
