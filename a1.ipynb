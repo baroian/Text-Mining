{
 "cells": [
  {
   "cell_type": "code",
   "execution_count": 79,
   "metadata": {},
   "outputs": [],
   "source": [
    "from datasets import Dataset, DatasetDict\n",
    "import evaluate\n",
    "import matplotlib.pyplot as plt\n",
    "import numpy as np\n",
    "import pandas as pd\n",
    "import torch\n",
    "from transformers import AutoModelForTokenClassification\n",
    "from transformers import AutoTokenizer\n",
    "from transformers import DataCollatorForTokenClassification\n",
    "from transformers import TrainingArguments\n",
    "from transformers import Trainer"
   ]
  },
  {
   "cell_type": "markdown",
   "metadata": {},
   "source": [
    "## Helper functions and declarations"
   ]
  },
  {
   "cell_type": "code",
   "execution_count": 2,
   "metadata": {},
   "outputs": [],
   "source": [
    "label_names = ['O', 'B-ART','I-ART','B-CON','I-CON','B-LOC','I-LOC',\n",
    "        'B-MAT','I-MAT','B-PER','I-PER','B-SPE','I-SPE']\n",
    "id2label = {i: l for i, l in enumerate(label_names)}\n",
    "label2id = {l: i for i, l in id2label.items()}"
   ]
  },
  {
   "cell_type": "code",
   "execution_count": 3,
   "metadata": {},
   "outputs": [],
   "source": [
    "def align_labels_with_tokens(labels, word_ids):\n",
    "    new_labels = []\n",
    "    current_word = None\n",
    "    for word_id in word_ids:\n",
    "        if word_id != current_word:\n",
    "            # Start of a new word!\n",
    "            current_word = word_id\n",
    "            label = -100 if word_id is None else labels[word_id]\n",
    "            new_labels.append(label)\n",
    "        elif word_id is None:\n",
    "            # Special token\n",
    "            new_labels.append(-100)\n",
    "        else:\n",
    "            # Same word as previous token\n",
    "            label = labels[word_id]\n",
    "            # If the label is B-XXX we change it to I-XXX\n",
    "            if label % 2 == 1:\n",
    "                label += 1\n",
    "            new_labels.append(label)\n",
    "\n",
    "    return new_labels\n",
    "\n",
    "\n",
    "def tokenize_and_align_labels(examples):\n",
    "    tokenized_inputs = tokenizer(\n",
    "        examples['tokens'], truncation=True, is_split_into_words=True\n",
    "    )\n",
    "    all_labels = examples['ner_tags']\n",
    "    new_labels = []\n",
    "    for i, labels in enumerate(all_labels):\n",
    "        word_ids = tokenized_inputs.word_ids(i)\n",
    "        new_labels.append(align_labels_with_tokens(labels, word_ids))\n",
    "    \n",
    "    tokenized_inputs['labels'] = new_labels\n",
    "    return tokenized_inputs\n",
    "\n",
    "\n",
    "def compute_metrics(eval_preds):\n",
    "    logits, labels = eval_preds\n",
    "    predictions = np.argmax(logits, axis=-1)\n",
    "\n",
    "    # Remove ignored index (special tokens) and convert to labels\n",
    "    true_labels = [[label_names[l] for l in label if l != -100] for label in labels]\n",
    "    true_predictions = [\n",
    "        [label_names[p] for (p, l) in zip(prediction, label) if l != -100]\n",
    "        for prediction, label in zip(predictions, labels)\n",
    "    ]\n",
    "    all_metrics = metric.compute(predictions=true_predictions, references=true_labels)\n",
    "    return {\n",
    "        \"precision\": all_metrics[\"overall_precision\"],\n",
    "        \"recall\": all_metrics[\"overall_recall\"],\n",
    "        \"f1\": all_metrics[\"overall_f1\"],\n",
    "        \"accuracy\": all_metrics[\"overall_accuracy\"],\n",
    "    }\n",
    "\n",
    "\n",
    "def parse(sentence):\n",
    "    tokens, ner_tags = [], []\n",
    "    for phrase in sentence:\n",
    "            features = phrase.split(' ')\n",
    "            tokens.append(features[0].strip())\n",
    "            ner_tags.append(label2id[features[2].strip()])\n",
    "    return {'tokens': tokens, 'ner_tags': ner_tags}"
   ]
  },
  {
   "cell_type": "markdown",
   "metadata": {},
   "source": [
    "## Data Loading"
   ]
  },
  {
   "cell_type": "code",
   "execution_count": 4,
   "metadata": {},
   "outputs": [],
   "source": [
    "raw_datasets = {}\n",
    "for split in ('train', 'val', 'test'):\n",
    "    raw_datasets[split] = {}\n",
    "    with open(f'{split}.txt', 'r') as infile:\n",
    "        raw_data = infile.read()\n",
    "        lines = raw_data.split('\\n')\n",
    "        sentences = raw_data.split('\\n\\n')\n",
    "        sentences = [parse(sentence.split('\\n')) for sentence in sentences]\n",
    "        for sentence in sentences:\n",
    "            for k in sentence:\n",
    "                if k not in raw_datasets[split].keys():\n",
    "                    raw_datasets[split][k] = []\n",
    "                raw_datasets[split][k].append(sentence[k])\n",
    "\n",
    "\n",
    "datasets = {}\n",
    "for split in raw_datasets.keys():\n",
    "    datasets[split] = Dataset.from_dict(raw_datasets[split])\n",
    "data = DatasetDict(datasets)"
   ]
  },
  {
   "cell_type": "markdown",
   "metadata": {},
   "source": [
    "### Data statistics"
   ]
  },
  {
   "cell_type": "code",
   "execution_count": 84,
   "metadata": {},
   "outputs": [],
   "source": [
    "ner = data['train']['ner_tags']\n",
    "ner += data['test']['ner_tags']\n",
    "ner += data['val']['ner_tags']\n",
    "ner = np.array([tag for taglist in ner for tag in taglist])"
   ]
  },
  {
   "cell_type": "code",
   "execution_count": 171,
   "metadata": {},
   "outputs": [],
   "source": [
    "ner_df = pd.DataFrame(ner, columns=['ner_tag'])\n",
    "ner_df['ner_label'] = ner_df['ner_tag'].map(id2label)\n",
    "ner_df.loc[ner_df['ner_label'] != 'O','ner_label_grouped'] = \\\n",
    "    ner_df.loc[ner_df['ner_label'] != 'O','ner_label'].apply(\n",
    "        lambda x: x.split('-')[1])\n",
    "ner_df['ner_label_grouped'] = ner_df['ner_label_grouped'].fillna('O')\n",
    "ner_df_counts = ner_df.groupby(\n",
    "    ['ner_label_grouped', 'ner_label']\n",
    ")['ner_label'].count().to_frame().drop('O')\n",
    "ner_df_counts.columns = ['counts']"
   ]
  },
  {
   "cell_type": "code",
   "execution_count": 177,
   "metadata": {},
   "outputs": [
    {
     "data": {
      "text/html": [
       "<div>\n",
       "<style scoped>\n",
       "    .dataframe tbody tr th:only-of-type {\n",
       "        vertical-align: middle;\n",
       "    }\n",
       "\n",
       "    .dataframe tbody tr th {\n",
       "        vertical-align: top;\n",
       "    }\n",
       "\n",
       "    .dataframe thead th {\n",
       "        text-align: right;\n",
       "    }\n",
       "</style>\n",
       "<table border=\"1\" class=\"dataframe\">\n",
       "  <thead>\n",
       "    <tr style=\"text-align: right;\">\n",
       "      <th></th>\n",
       "      <th></th>\n",
       "      <th>counts</th>\n",
       "    </tr>\n",
       "    <tr>\n",
       "      <th>ner_label_grouped</th>\n",
       "      <th>ner_label</th>\n",
       "      <th></th>\n",
       "    </tr>\n",
       "  </thead>\n",
       "  <tbody>\n",
       "    <tr>\n",
       "      <th rowspan=\"2\" valign=\"top\">ART</th>\n",
       "      <th>B-ART</th>\n",
       "      <td>1420</td>\n",
       "    </tr>\n",
       "    <tr>\n",
       "      <th>I-ART</th>\n",
       "      <td>498</td>\n",
       "    </tr>\n",
       "    <tr>\n",
       "      <th rowspan=\"2\" valign=\"top\">CON</th>\n",
       "      <th>B-CON</th>\n",
       "      <td>1374</td>\n",
       "    </tr>\n",
       "    <tr>\n",
       "      <th>I-CON</th>\n",
       "      <td>278</td>\n",
       "    </tr>\n",
       "    <tr>\n",
       "      <th rowspan=\"2\" valign=\"top\">LOC</th>\n",
       "      <th>B-LOC</th>\n",
       "      <td>635</td>\n",
       "    </tr>\n",
       "    <tr>\n",
       "      <th>I-LOC</th>\n",
       "      <td>670</td>\n",
       "    </tr>\n",
       "    <tr>\n",
       "      <th rowspan=\"2\" valign=\"top\">MAT</th>\n",
       "      <th>B-MAT</th>\n",
       "      <td>249</td>\n",
       "    </tr>\n",
       "    <tr>\n",
       "      <th>I-MAT</th>\n",
       "      <td>39</td>\n",
       "    </tr>\n",
       "    <tr>\n",
       "      <th rowspan=\"2\" valign=\"top\">PER</th>\n",
       "      <th>B-PER</th>\n",
       "      <td>1833</td>\n",
       "    </tr>\n",
       "    <tr>\n",
       "      <th>I-PER</th>\n",
       "      <td>1493</td>\n",
       "    </tr>\n",
       "    <tr>\n",
       "      <th rowspan=\"2\" valign=\"top\">SPE</th>\n",
       "      <th>B-SPE</th>\n",
       "      <td>154</td>\n",
       "    </tr>\n",
       "    <tr>\n",
       "      <th>I-SPE</th>\n",
       "      <td>23</td>\n",
       "    </tr>\n",
       "  </tbody>\n",
       "</table>\n",
       "</div>"
      ],
      "text/plain": [
       "                             counts\n",
       "ner_label_grouped ner_label        \n",
       "ART               B-ART        1420\n",
       "                  I-ART         498\n",
       "CON               B-CON        1374\n",
       "                  I-CON         278\n",
       "LOC               B-LOC         635\n",
       "                  I-LOC         670\n",
       "MAT               B-MAT         249\n",
       "                  I-MAT          39\n",
       "PER               B-PER        1833\n",
       "                  I-PER        1493\n",
       "SPE               B-SPE         154\n",
       "                  I-SPE          23"
      ]
     },
     "execution_count": 177,
     "metadata": {},
     "output_type": "execute_result"
    }
   ],
   "source": [
    "ner_df_counts.sort_values(by='counts', ascending=False).sort_index(level=0)"
   ]
  },
  {
   "cell_type": "code",
   "execution_count": null,
   "metadata": {},
   "outputs": [
    {
     "data": {
      "text/plain": [
       "Index(['ART', 'CON', 'LOC', 'MAT', 'PER', 'SPE'], dtype='object', name='ner_label_grouped')"
      ]
     },
     "execution_count": 136,
     "metadata": {},
     "output_type": "execute_result"
    }
   ],
   "source": []
  },
  {
   "cell_type": "code",
   "execution_count": 128,
   "metadata": {},
   "outputs": [
    {
     "data": {
      "text/plain": [
       "array([1918, 1652, 1305,  288, 3326,  177])"
      ]
     },
     "execution_count": 128,
     "metadata": {},
     "output_type": "execute_result"
    }
   ],
   "source": [
    "ner_df_counts.groupby(level=[0]).sum().values.flatten()"
   ]
  },
  {
   "cell_type": "code",
   "execution_count": 158,
   "metadata": {},
   "outputs": [
    {
     "data": {
      "text/html": [
       "<div>\n",
       "<style scoped>\n",
       "    .dataframe tbody tr th:only-of-type {\n",
       "        vertical-align: middle;\n",
       "    }\n",
       "\n",
       "    .dataframe tbody tr th {\n",
       "        vertical-align: top;\n",
       "    }\n",
       "\n",
       "    .dataframe thead th {\n",
       "        text-align: right;\n",
       "    }\n",
       "</style>\n",
       "<table border=\"1\" class=\"dataframe\">\n",
       "  <thead>\n",
       "    <tr style=\"text-align: right;\">\n",
       "      <th></th>\n",
       "      <th></th>\n",
       "      <th>ner_label</th>\n",
       "    </tr>\n",
       "    <tr>\n",
       "      <th>ner_label_grouped</th>\n",
       "      <th>ner_label</th>\n",
       "      <th></th>\n",
       "    </tr>\n",
       "  </thead>\n",
       "  <tbody>\n",
       "    <tr>\n",
       "      <th rowspan=\"2\" valign=\"top\">ART</th>\n",
       "      <th>B-ART</th>\n",
       "      <td>1420</td>\n",
       "    </tr>\n",
       "    <tr>\n",
       "      <th>I-ART</th>\n",
       "      <td>498</td>\n",
       "    </tr>\n",
       "    <tr>\n",
       "      <th rowspan=\"2\" valign=\"top\">CON</th>\n",
       "      <th>B-CON</th>\n",
       "      <td>1374</td>\n",
       "    </tr>\n",
       "    <tr>\n",
       "      <th>I-CON</th>\n",
       "      <td>278</td>\n",
       "    </tr>\n",
       "    <tr>\n",
       "      <th rowspan=\"2\" valign=\"top\">LOC</th>\n",
       "      <th>B-LOC</th>\n",
       "      <td>635</td>\n",
       "    </tr>\n",
       "    <tr>\n",
       "      <th>I-LOC</th>\n",
       "      <td>670</td>\n",
       "    </tr>\n",
       "    <tr>\n",
       "      <th rowspan=\"2\" valign=\"top\">MAT</th>\n",
       "      <th>B-MAT</th>\n",
       "      <td>249</td>\n",
       "    </tr>\n",
       "    <tr>\n",
       "      <th>I-MAT</th>\n",
       "      <td>39</td>\n",
       "    </tr>\n",
       "    <tr>\n",
       "      <th rowspan=\"2\" valign=\"top\">PER</th>\n",
       "      <th>B-PER</th>\n",
       "      <td>1833</td>\n",
       "    </tr>\n",
       "    <tr>\n",
       "      <th>I-PER</th>\n",
       "      <td>1493</td>\n",
       "    </tr>\n",
       "    <tr>\n",
       "      <th rowspan=\"2\" valign=\"top\">SPE</th>\n",
       "      <th>B-SPE</th>\n",
       "      <td>154</td>\n",
       "    </tr>\n",
       "    <tr>\n",
       "      <th>I-SPE</th>\n",
       "      <td>23</td>\n",
       "    </tr>\n",
       "  </tbody>\n",
       "</table>\n",
       "</div>"
      ],
      "text/plain": [
       "                             ner_label\n",
       "ner_label_grouped ner_label           \n",
       "ART               B-ART           1420\n",
       "                  I-ART            498\n",
       "CON               B-CON           1374\n",
       "                  I-CON            278\n",
       "LOC               B-LOC            635\n",
       "                  I-LOC            670\n",
       "MAT               B-MAT            249\n",
       "                  I-MAT             39\n",
       "PER               B-PER           1833\n",
       "                  I-PER           1493\n",
       "SPE               B-SPE            154\n",
       "                  I-SPE             23"
      ]
     },
     "execution_count": 158,
     "metadata": {},
     "output_type": "execute_result"
    }
   ],
   "source": [
    "ner_df_counts"
   ]
  },
  {
   "cell_type": "code",
   "execution_count": 181,
   "metadata": {},
   "outputs": [
    {
     "data": {
      "text/plain": [
       "Index(['ART', 'CON', 'LOC', 'MAT', 'PER', 'SPE'], dtype='object', name='ner_label_grouped')"
      ]
     },
     "execution_count": 181,
     "metadata": {},
     "output_type": "execute_result"
    }
   ],
   "source": [
    "ner_df_counts.index.get_level_values(0).drop_duplicates()"
   ]
  },
  {
   "cell_type": "code",
   "execution_count": null,
   "metadata": {},
   "outputs": [
    {
     "data": {
      "image/png": "[encoded data removed]",
      "text/plain": [
       "<Figure size 640x480 with 1 Axes>"
      ]
     },
     "metadata": {},
     "output_type": "display_data"
    }
   ],
   "source": [
    "fig, ax = plt.subplots()\n",
    "cmap = plt.colormaps[\"tab20\"]\n",
    "size=0.3\n",
    "outer_colors = cmap(np.arange(6)*2)\n",
    "inner_colors = cmap(np.arange(12))\n",
    "textprops = {'color': 'k'}\n",
    "startangle = 0\n",
    "\n",
    "outer_labels = ner_df_counts.index.get_level_values(0).drop_duplicates()\n",
    "wedges, texts = ax.pie(\n",
    "    ner_df_counts.groupby(level=[0]).sum().values.flatten(),\n",
    "    labels=outer_labels,\n",
    "    radius=1, colors=outer_colors,\n",
    "    wedgeprops=dict(width=size, edgecolor='w'),\n",
    "    labeldistance=1,\n",
    "    rotatelabels=True,\n",
    "    textprops=textprops,\n",
    "    startangle=startangle)\n",
    "\n",
    "inner_labels = [i.split('-')[0] \n",
    "                for i in ner_df_counts.index.get_level_values(1).to_list()]\n",
    "\n",
    "inner_labels[-2:] = [''] * 2\n",
    "inner_labels[6:8] = [''] * 2\n",
    "ax.pie(ner_df_counts.values.flatten(),\n",
    "       labels=inner_labels,\n",
    "       radius=1-size, colors=inner_colors,\n",
    "       wedgeprops=dict(width=size, edgecolor='w'),\n",
    "       labeldistance=0.75,\n",
    "       textprops=textprops,\n",
    "       startangle=startangle)\n",
    "\n",
    "ax.set_title('Distribution of NER labels in the datasets.')\n",
    "plt.show()"
   ]
  },
  {
   "cell_type": "code",
   "execution_count": 42,
   "metadata": {},
   "outputs": [],
   "source": [
    "ner_idx, ner_counts = np.unique(ner[ner != 0], return_counts=True)\n",
    "sorted_idx = np.argsort(ner_counts,)[::-1]\n",
    "ner_idx = ner_idx[sorted_idx]\n",
    "ner_counts = ner_counts[sorted_idx]"
   ]
  },
  {
   "cell_type": "code",
   "execution_count": 64,
   "metadata": {},
   "outputs": [],
   "source": [
    "ner2 = ner[ner != 0]\n",
    "ner2[np.where(ner2 % 2 == 0)] = ner2[np.where(ner2 % 2 == 0)] - 1"
   ]
  },
  {
   "cell_type": "code",
   "execution_count": 65,
   "metadata": {},
   "outputs": [],
   "source": [
    "ner_idx2, ner_counts2 = np.unique(ner2, return_counts=True)\n",
    "sorted_idx2 = np.argsort(ner_counts2)[::-1]\n",
    "ner_idx2 = ner_idx2[sorted_idx2]\n",
    "ner_counts2 = ner_counts2[sorted_idx2]"
   ]
  },
  {
   "cell_type": "code",
   "execution_count": 78,
   "metadata": {},
   "outputs": [
    {
     "data": {
      "text/plain": [
       "array([ 9, 10,  1,  3,  6,  5,  2,  4,  7, 11,  8, 12])"
      ]
     },
     "execution_count": 78,
     "metadata": {},
     "output_type": "execute_result"
    }
   ],
   "source": [
    "ner_idx"
   ]
  },
  {
   "cell_type": "code",
   "execution_count": 75,
   "metadata": {},
   "outputs": [
    {
     "data": {
      "image/png": "[encoded data removed]",
      "text/plain": [
       "<Figure size 640x480 with 1 Axes>"
      ]
     },
     "metadata": {},
     "output_type": "display_data"
    }
   ],
   "source": [
    "labels = [id2label[i] for i in ner_idx2]\n",
    "labels = [label.split('-')[1] for label in labels]\n",
    "plt.pie(ner_counts2, \n",
    "        labels=labels,\n",
    "        labeldistance=0.7,\n",
    "        startangle=180,\n",
    "        autopct='%1.1f%%',\n",
    "        counterclock=False)\n",
    "plt.show()"
   ]
  },
  {
   "cell_type": "code",
   "execution_count": 76,
   "metadata": {},
   "outputs": [
    {
     "data": {
      "image/png": "[encoded data removed]",
      "text/plain": [
       "<Figure size 640x480 with 1 Axes>"
      ]
     },
     "metadata": {},
     "output_type": "display_data"
    }
   ],
   "source": [
    "fig, ax = plt.subplots()\n",
    "\n",
    "size = 0.3\n",
    "vals = np.array([[60., 32.], [37., 40.], [29., 10.]])\n",
    "\n",
    "cmap = plt.colormaps[\"tab20c\"]\n",
    "outer_colors = cmap(np.arange(3)*4)\n",
    "inner_colors = cmap([1, 2, 5, 6, 9, 10])\n",
    "\n",
    "ax.pie(vals.sum(axis=1), radius=1, colors=outer_colors,\n",
    "       wedgeprops=dict(width=size, edgecolor='w'))\n",
    "\n",
    "ax.pie(vals.flatten(), radius=1-size, colors=inner_colors,\n",
    "       wedgeprops=dict(width=size, edgecolor='w'))\n",
    "\n",
    "ax.set(aspect=\"equal\", title='Pie plot with `ax.pie`')\n",
    "plt.show()"
   ]
  },
  {
   "cell_type": "code",
   "execution_count": 75,
   "metadata": {},
   "outputs": [
    {
     "data": {
      "image/png": "[encoded data removed]",
      "text/plain": [
       "<Figure size 640x480 with 1 Axes>"
      ]
     },
     "metadata": {},
     "output_type": "display_data"
    }
   ],
   "source": [
    "plt.hist(ner_nonO, bins=np.arange(1, 12))\n",
    "plt.yscale('log')"
   ]
  },
  {
   "cell_type": "markdown",
   "metadata": {},
   "source": [
    "## Preprocessing"
   ]
  },
  {
   "cell_type": "markdown",
   "metadata": {},
   "source": [
    "### Tokenization and alignment"
   ]
  },
  {
   "cell_type": "code",
   "execution_count": null,
   "metadata": {},
   "outputs": [
    {
     "data": {
      "application/vnd.jupyter.widget-view+json": {
       "model_id": "f25f873cb5434cb7b9380c0060fb0fc1",
       "version_major": 2,
       "version_minor": 0
      },
      "text/plain": [
       "Map:   0%|          | 0/1992 [00:00<?, ? examples/s]"
      ]
     },
     "metadata": {},
     "output_type": "display_data"
    },
    {
     "data": {
      "application/vnd.jupyter.widget-view+json": {
       "model_id": "3690ae3fb6114e48b3dcae385c087139",
       "version_major": 2,
       "version_minor": 0
      },
      "text/plain": [
       "Map:   0%|          | 0/850 [00:00<?, ? examples/s]"
      ]
     },
     "metadata": {},
     "output_type": "display_data"
    },
    {
     "data": {
      "application/vnd.jupyter.widget-view+json": {
       "model_id": "b0555c46e3a0443ba35b07d5697d83f5",
       "version_major": 2,
       "version_minor": 0
      },
      "text/plain": [
       "Map:   0%|          | 0/864 [00:00<?, ? examples/s]"
      ]
     },
     "metadata": {},
     "output_type": "display_data"
    }
   ],
   "source": [
    "model_checkpoint = \"bert-base-cased\"\n",
    "tokenizer = AutoTokenizer.from_pretrained(model_checkpoint)\n",
    "\n",
    "data_tokenized = data.map(\n",
    "    tokenize_and_align_labels,\n",
    "    batched=True,\n",
    "    remove_columns=data['train'].column_names)"
   ]
  },
  {
   "cell_type": "markdown",
   "metadata": {},
   "source": [
    "## Training"
   ]
  },
  {
   "cell_type": "markdown",
   "metadata": {},
   "source": [
    "### Training set-up"
   ]
  },
  {
   "cell_type": "code",
   "execution_count": null,
   "metadata": {},
   "outputs": [
    {
     "name": "stderr",
     "output_type": "stream",
     "text": [
      "Some weights of BertForTokenClassification were not initialized from the model checkpoint at bert-base-cased and are newly initialized: ['classifier.bias', 'classifier.weight']\n",
      "You should probably TRAIN this model on a down-stream task to be able to use it for predictions and inference.\n"
     ]
    }
   ],
   "source": [
    "data_collator = DataCollatorForTokenClassification(tokenizer)\n",
    "metric = evaluate.load('seqeval')\n",
    "\n",
    "model = AutoModelForTokenClassification.from_pretrained(\n",
    "    model_checkpoint,\n",
    "    id2label=id2label,\n",
    "    label2id=label2id,\n",
    ")\n",
    "\n",
    "args = TrainingArguments(\n",
    "    \"bert-finetuned-archeology\",\n",
    "    eval_strategy=\"epoch\",\n",
    "    save_strategy=\"epoch\",\n",
    "    learning_rate=2e-5,\n",
    "    num_train_epochs=3,\n",
    "    weight_decay=0.01,\n",
    "    push_to_hub=True,\n",
    ")\n",
    "\n",
    "trainer = Trainer(\n",
    "    model=model,\n",
    "    args=args,\n",
    "    train_dataset=data_tokenized[\"train\"],\n",
    "    eval_dataset=data_tokenized[\"val\"],\n",
    "    data_collator=data_collator,\n",
    "    compute_metrics=compute_metrics,\n",
    "    processing_class=tokenizer,\n",
    ")"
   ]
  },
  {
   "cell_type": "markdown",
   "metadata": {},
   "source": [
    "### Training loop"
   ]
  },
  {
   "cell_type": "code",
   "execution_count": 34,
   "metadata": {},
   "outputs": [
    {
     "data": {
      "application/vnd.jupyter.widget-view+json": {
       "model_id": "7cf9cd94c74e4229a9dc4dec511d321e",
       "version_major": 2,
       "version_minor": 0
      },
      "text/plain": [
       "  0%|          | 0/747 [00:00<?, ?it/s]"
      ]
     },
     "metadata": {},
     "output_type": "display_data"
    },
    {
     "name": "stdout",
     "output_type": "stream",
     "text": [
      "{'eval_loss': 0.21270084381103516, 'eval_precision': 0.499194847020934, 'eval_recall': 0.6378600823045267, 'eval_f1': 0.5600722673893406, 'eval_accuracy': 0.9467969124765601, 'eval_runtime': 11.5379, 'eval_samples_per_second': 73.67, 'eval_steps_per_second': 9.274, 'epoch': 1.0}\n"
     ]
    },
    {
     "data": {
      "application/vnd.jupyter.widget-view+json": {
       "model_id": "2a5491db35c548f78875251f847a333d",
       "version_major": 2,
       "version_minor": 0
      },
      "text/plain": [
       "  0%|          | 0/107 [00:00<?, ?it/s]"
      ]
     },
     "metadata": {},
     "output_type": "display_data"
    },
    {
     "name": "stdout",
     "output_type": "stream",
     "text": [
      "{'eval_loss': 0.2322877198457718, 'eval_precision': 0.5253968253968254, 'eval_recall': 0.6810699588477366, 'eval_f1': 0.5931899641577061, 'eval_accuracy': 0.9476690942392395, 'eval_runtime': 12.3934, 'eval_samples_per_second': 68.585, 'eval_steps_per_second': 8.634, 'epoch': 2.0}\n",
      "{'loss': 0.0737, 'grad_norm': 0.9115849137306213, 'learning_rate': 6.6131191432396255e-06, 'epoch': 2.01}\n"
     ]
    },
    {
     "data": {
      "application/vnd.jupyter.widget-view+json": {
       "model_id": "c6ab13d93acd4854b82b6ba809c29b1f",
       "version_major": 2,
       "version_minor": 0
      },
      "text/plain": [
       "  0%|          | 0/107 [00:00<?, ?it/s]"
      ]
     },
     "metadata": {},
     "output_type": "display_data"
    },
    {
     "name": "stdout",
     "output_type": "stream",
     "text": [
      "{'eval_loss': 0.2524833381175995, 'eval_precision': 0.5037537537537538, 'eval_recall': 0.6903292181069959, 'eval_f1': 0.5824652777777778, 'eval_accuracy': 0.9453142034800053, 'eval_runtime': 11.5912, 'eval_samples_per_second': 73.331, 'eval_steps_per_second': 9.231, 'epoch': 3.0}\n",
      "{'train_runtime': 626.9456, 'train_samples_per_second': 9.532, 'train_steps_per_second': 1.191, 'train_loss': 0.06035551584389315, 'epoch': 3.0}\n"
     ]
    },
    {
     "data": {
      "application/vnd.jupyter.widget-view+json": {
       "model_id": "62c5bf3c2fdd433a9c0a953c067cf3b2",
       "version_major": 2,
       "version_minor": 0
      },
      "text/plain": [
       "events.out.tfevents.1730815554.Jans-MacBook-Pro-2.local.3581.0:   0%|          | 0.00/12.9k [00:00<?, ?B/s]"
      ]
     },
     "metadata": {},
     "output_type": "display_data"
    },
    {
     "data": {
      "text/plain": [
       "CommitInfo(commit_url='https://huggingface.co/janzuromski/bert-finetuned-archeology/commit/1656eb825c37e4fc19604b11d726843bb4799f6c', commit_message='Training complete', commit_description='', oid='1656eb825c37e4fc19604b11d726843bb4799f6c', pr_url=None, repo_url=RepoUrl('https://huggingface.co/janzuromski/bert-finetuned-archeology', endpoint='https://huggingface.co', repo_type='model', repo_id='janzuromski/bert-finetuned-archeology'), pr_revision=None, pr_num=None)"
      ]
     },
     "execution_count": 34,
     "metadata": {},
     "output_type": "execute_result"
    }
   ],
   "source": [
    "trainer.train()\n",
    "trainer.push_to_hub(commit_message=\"Training complete\")"
   ]
  },
  {
   "cell_type": "code",
   "execution_count": null,
   "metadata": {},
   "outputs": [],
   "source": []
  }
 ],
 "metadata": {
  "kernelspec": {
   "display_name": "base",
   "language": "python",
   "name": "python3"
  },
  "language_info": {
   "codemirror_mode": {
    "name": "ipython",
    "version": 3
   },
   "file_extension": ".py",
   "mimetype": "text/x-python",
   "name": "python",
   "nbconvert_exporter": "python",
   "pygments_lexer": "ipython3",
   "version": "3.12.4"
  }
 },
 "nbformat": 4,
 "nbformat_minor": 2
}
