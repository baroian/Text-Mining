{
 "cells": [
  {
   "cell_type": "code",
   "execution_count": 68,
   "metadata": {},
   "outputs": [],
   "source": [
    "from accelerate import Accelerator\n",
    "from datasets import Dataset, DatasetDict\n",
    "import evaluate\n",
    "from huggingface_hub import Repository, get_full_repo_name\n",
    "import matplotlib.pyplot as plt\n",
    "import matplotlib.patches as mpatches\n",
    "import numpy as np\n",
    "import pandas as pd\n",
    "import seaborn as sns\n",
    "from sklearn.metrics import classification_report\n",
    "import torch\n",
    "from torch.optim import AdamW\n",
    "from torch.utils.data import DataLoader\n",
    "from transformers import AutoModelForTokenClassification\n",
    "from transformers import AutoTokenizer\n",
    "from transformers import DataCollatorForTokenClassification\n",
    "from transformers import get_scheduler\n",
    "from transformers import TrainingArguments\n",
    "from transformers import Trainer\n",
    "from tqdm.auto import tqdm"
   ]
  },
  {
   "cell_type": "markdown",
   "metadata": {},
   "source": [
    "## Helper functions and declarations"
   ]
  },
  {
   "cell_type": "code",
   "execution_count": 14,
   "metadata": {},
   "outputs": [],
   "source": [
    "label_names = ['O', 'B-ART','I-ART','B-CON','I-CON','B-LOC','I-LOC',\n",
    "        'B-MAT','I-MAT','B-PER','I-PER','B-SPE','I-SPE']\n",
    "id2label = {i: l for i, l in enumerate(label_names)}\n",
    "label2id = {l: i for i, l in id2label.items()}\n",
    "\n",
    "model_name = \"bert-finetuned-archeology\"\n",
    "base_model_checkpoint = \"bert-base-cased\""
   ]
  },
  {
   "cell_type": "code",
   "execution_count": 15,
   "metadata": {},
   "outputs": [],
   "source": [
    "def align_labels_with_tokens(labels, word_ids):\n",
    "    new_labels = []\n",
    "    current_word = None\n",
    "    for word_id in word_ids:\n",
    "        if word_id != current_word:\n",
    "            # Start of a new word!\n",
    "            current_word = word_id\n",
    "            label = -100 if word_id is None else labels[word_id]\n",
    "            new_labels.append(label)\n",
    "        elif word_id is None:\n",
    "            # Special token\n",
    "            new_labels.append(-100)\n",
    "        else:\n",
    "            # Same word as previous token\n",
    "            label = labels[word_id]\n",
    "            # If the label is B-XXX we change it to I-XXX\n",
    "            if label % 2 == 1:\n",
    "                label += 1\n",
    "            new_labels.append(label)\n",
    "\n",
    "    return new_labels\n",
    "\n",
    "\n",
    "def tokenize_and_align_labels(examples):\n",
    "    tokenized_inputs = tokenizer(\n",
    "        examples['tokens'], truncation=True, is_split_into_words=True\n",
    "    )\n",
    "    all_labels = examples['ner_tags']\n",
    "    new_labels = []\n",
    "    for i, labels in enumerate(all_labels):\n",
    "        word_ids = tokenized_inputs.word_ids(i)\n",
    "        new_labels.append(align_labels_with_tokens(labels, word_ids))\n",
    "    \n",
    "    tokenized_inputs['labels'] = new_labels\n",
    "    return tokenized_inputs\n",
    "\n",
    "\n",
    "def compute_metrics(eval_preds):\n",
    "    logits, labels = eval_preds\n",
    "    predictions = np.argmax(logits, axis=-1)\n",
    "\n",
    "    # Remove ignored index (special tokens) and convert to labels\n",
    "    true_labels = [[label_names[l] for l in label if l != -100] for label in labels]\n",
    "    true_predictions = [\n",
    "        [label_names[p] for (p, l) in zip(prediction, label) if l != -100]\n",
    "        for prediction, label in zip(predictions, labels)\n",
    "    ]\n",
    "    all_metrics = metric.compute(predictions=true_predictions, references=true_labels)\n",
    "    return {\n",
    "        \"precision\": all_metrics[\"overall_precision\"],\n",
    "        \"recall\": all_metrics[\"overall_recall\"],\n",
    "        \"f1\": all_metrics[\"overall_f1\"],\n",
    "        \"accuracy\": all_metrics[\"overall_accuracy\"],\n",
    "    }\n",
    "\n",
    "\n",
    "def parse(sentence):\n",
    "    tokens, ner_tags = [], []\n",
    "    for phrase in sentence:\n",
    "            features = phrase.split(' ')\n",
    "            tokens.append(features[0].strip())\n",
    "            ner_tags.append(label2id[features[2].strip()])\n",
    "    return {'tokens': tokens, 'ner_tags': ner_tags}\n",
    "\n",
    "\n",
    "def postprocess(predictions, labels):\n",
    "    predictions = predictions.detach().cpu().clone().numpy()\n",
    "    labels = labels.detach().cpu().clone().numpy()\n",
    "\n",
    "    # Remove ignored index (special tokens) and convert to labels\n",
    "    true_labels = [[label_names[l] for l in label if l != -100] for label in labels]\n",
    "    true_predictions = [\n",
    "        [label_names[p] for (p, l) in zip(prediction, label) if l != -100]\n",
    "        for prediction, label in zip(predictions, labels)\n",
    "    ]\n",
    "    return true_labels, true_predictions"
   ]
  },
  {
   "cell_type": "markdown",
   "metadata": {},
   "source": [
    "## Data Loading"
   ]
  },
  {
   "cell_type": "code",
   "execution_count": 16,
   "metadata": {},
   "outputs": [],
   "source": [
    "raw_datasets = {}\n",
    "for split in ('train', 'val', 'test'):\n",
    "    raw_datasets[split] = {}\n",
    "    with open(f'{split}.txt', 'r') as infile:\n",
    "        raw_data = infile.read()\n",
    "        lines = raw_data.split('\\n')\n",
    "        sentences = raw_data.split('\\n\\n')\n",
    "        sentences = [parse(sentence.split('\\n')) for sentence in sentences]\n",
    "        for sentence in sentences:\n",
    "            for k in sentence:\n",
    "                if k not in raw_datasets[split].keys():\n",
    "                    raw_datasets[split][k] = []\n",
    "                raw_datasets[split][k].append(sentence[k])\n",
    "\n",
    "\n",
    "datasets = {}\n",
    "for split in raw_datasets.keys():\n",
    "    datasets[split] = Dataset.from_dict(raw_datasets[split])\n",
    "data = DatasetDict(datasets)"
   ]
  },
  {
   "cell_type": "markdown",
   "metadata": {},
   "source": [
    "### Data statistics"
   ]
  },
  {
   "cell_type": "markdown",
   "metadata": {},
   "source": [
    "#### NER label distribution"
   ]
  },
  {
   "cell_type": "code",
   "execution_count": 17,
   "metadata": {},
   "outputs": [],
   "source": [
    "ner = data['train']['ner_tags']\n",
    "ner += data['test']['ner_tags']\n",
    "ner += data['val']['ner_tags']\n",
    "ner = np.array([tag for taglist in ner for tag in taglist])"
   ]
  },
  {
   "cell_type": "code",
   "execution_count": 18,
   "metadata": {},
   "outputs": [],
   "source": [
    "ner_df = pd.DataFrame(ner, columns=['ner_tag'])\n",
    "ner_df['ner_label'] = ner_df['ner_tag'].map(id2label)\n",
    "ner_df.loc[ner_df['ner_label'] != 'O','ner_label_grouped'] = \\\n",
    "    ner_df.loc[ner_df['ner_label'] != 'O','ner_label'].apply(\n",
    "        lambda x: x.split('-')[1])\n",
    "ner_df['ner_label_grouped'] = ner_df['ner_label_grouped'].fillna('O')\n",
    "ner_df_counts = ner_df.groupby(\n",
    "    ['ner_label_grouped', 'ner_label']\n",
    ")['ner_label'].count().to_frame().drop('O')\n",
    "ner_df_counts.columns = ['counts']"
   ]
  },
  {
   "cell_type": "code",
   "execution_count": 19,
   "metadata": {},
   "outputs": [],
   "source": [
    "ner_distribution = ner_df.groupby(['ner_label_grouped', 'ner_label'])['ner_label'].count().to_frame()\n",
    "ner_distribution.columns = ['counts']\n",
    "ner_distribution = ner_distribution.reset_index()"
   ]
  },
  {
   "cell_type": "code",
   "execution_count": 28,
   "metadata": {},
   "outputs": [
    {
     "data": {
      "image/png": "[encoded data removed]",
      "text/plain": [
       "<Figure size 640x480 with 1 Axes>"
      ]
     },
     "metadata": {},
     "output_type": "display_data"
    }
   ],
   "source": [
    "bottom_df = ner_distribution.loc[ner_distribution['ner_label'].str.startswith('B')]\n",
    "\n",
    "fig, ax = plt.subplots()\n",
    "ax.grid(axis='y', zorder=2)\n",
    "sns.barplot(data=ner_distribution, x='ner_label_grouped', y='counts',\n",
    "            estimator=sum, ax=ax, color='#fad487', errorbar=None, zorder=3)\n",
    "sns.barplot(data=bottom_df, x='ner_label_grouped', y='counts', ax=ax,\n",
    "            color='#ffbc05', zorder=3)\n",
    "top_bar = mpatches.Patch(color='#fad487', label='B- labels')\n",
    "bottom_bar = mpatches.Patch(color='#ffbc05', label='I- labels')\n",
    "plt.legend(handles=[top_bar, bottom_bar])\n",
    "ax.set_yscale('log')\n",
    "sns.despine()\n",
    "ax.set(title='Distribution of NER labels in the datasets',\n",
    "       xlabel='NER label', ylabel='Count')\n",
    "plt.show()"
   ]
  },
  {
   "cell_type": "code",
   "execution_count": 242,
   "metadata": {},
   "outputs": [
    {
     "data": {
      "image/png": "[encoded data removed]",
      "text/plain": [
       "<Figure size 600x600 with 1 Axes>"
      ]
     },
     "metadata": {},
     "output_type": "display_data"
    }
   ],
   "source": [
    "fig, ax = plt.subplots(figsize=(6, 6))\n",
    "cmap = plt.colormaps[\"tab20\"]\n",
    "size=0.3\n",
    "outer_colors = cmap(np.arange(6)*2)\n",
    "inner_colors = cmap(np.arange(12))\n",
    "textprops = {'color': 'k'}\n",
    "startangle = 0\n",
    "\n",
    "outer_labels = ner_df_counts.index.get_level_values(0).drop_duplicates()\n",
    "wedges, texts = ax.pie(\n",
    "    ner_df_counts.groupby(level=[0]).sum().values.flatten(),\n",
    "    labels=outer_labels,\n",
    "    radius=1, colors=outer_colors,\n",
    "    wedgeprops=dict(width=size, edgecolor='w'),\n",
    "    labeldistance=1.05,\n",
    "    rotatelabels=True,\n",
    "    textprops=textprops,\n",
    "    startangle=startangle)\n",
    "\n",
    "inner_labels = [i.split('-')[0] \n",
    "                for i in ner_df_counts.index.get_level_values(1).to_list()]\n",
    "\n",
    "inner_labels[-2:] = [''] * 2\n",
    "inner_labels[6:8] = [''] * 2\n",
    "ax.pie(ner_df_counts.values.flatten(),\n",
    "       labels=inner_labels,\n",
    "       radius=1-size, colors=inner_colors,\n",
    "       wedgeprops=dict(width=size, edgecolor='w'),\n",
    "       labeldistance=0.75,\n",
    "       textprops=textprops,\n",
    "       startangle=startangle)\n",
    "\n",
    "ax.set_title('Distribution of NER labels in the datasets.')\n",
    "plt.show()"
   ]
  },
  {
   "cell_type": "markdown",
   "metadata": {},
   "source": [
    "## Preprocessing"
   ]
  },
  {
   "cell_type": "code",
   "execution_count": 17,
   "metadata": {},
   "outputs": [
    {
     "data": {
      "application/vnd.jupyter.widget-view+json": {
       "model_id": "d3124ca7a2044ca7b0ee03edac157ed3",
       "version_major": 2,
       "version_minor": 0
      },
      "text/plain": [
       "Map:   0%|          | 0/1992 [00:00<?, ? examples/s]"
      ]
     },
     "metadata": {},
     "output_type": "display_data"
    },
    {
     "data": {
      "application/vnd.jupyter.widget-view+json": {
       "model_id": "a0049e792f8046ee9fbe703d9fe540fb",
       "version_major": 2,
       "version_minor": 0
      },
      "text/plain": [
       "Map:   0%|          | 0/850 [00:00<?, ? examples/s]"
      ]
     },
     "metadata": {},
     "output_type": "display_data"
    },
    {
     "data": {
      "application/vnd.jupyter.widget-view+json": {
       "model_id": "ffdc60d8cb7c409798bf8379e293204e",
       "version_major": 2,
       "version_minor": 0
      },
      "text/plain": [
       "Map:   0%|          | 0/864 [00:00<?, ? examples/s]"
      ]
     },
     "metadata": {},
     "output_type": "display_data"
    }
   ],
   "source": [
    "tokenizer = AutoTokenizer.from_pretrained(base_model_checkpoint)\n",
    "\n",
    "data_tokenized = data.map(\n",
    "    tokenize_and_align_labels,\n",
    "    batched=True,\n",
    "    remove_columns=data['train'].column_names)"
   ]
  },
  {
   "cell_type": "markdown",
   "metadata": {},
   "source": [
    "## Training"
   ]
  },
  {
   "cell_type": "markdown",
   "metadata": {},
   "source": [
    "### Training set-up"
   ]
  },
  {
   "cell_type": "code",
   "execution_count": null,
   "metadata": {},
   "outputs": [
    {
     "name": "stderr",
     "output_type": "stream",
     "text": [
      "Some weights of BertForTokenClassification were not initialized from the model checkpoint at bert-base-cased and are newly initialized: ['classifier.bias', 'classifier.weight']\n",
      "You should probably TRAIN this model on a down-stream task to be able to use it for predictions and inference.\n"
     ]
    }
   ],
   "source": [
    "data_collator = DataCollatorForTokenClassification(tokenizer)\n",
    "metric = evaluate.load('seqeval')\n",
    "\n",
    "model = AutoModelForTokenClassification.from_pretrained(\n",
    "    base_model_checkpoint,\n",
    "    id2label=id2label,\n",
    "    label2id=label2id,\n",
    ")\n",
    "\n",
    "args = TrainingArguments(\n",
    "    model_name,\n",
    "    eval_strategy=\"epoch\",\n",
    "    save_strategy=\"epoch\",\n",
    "    learning_rate=2e-5,\n",
    "    num_train_epochs=3,\n",
    "    weight_decay=0.01,\n",
    "    push_to_hub=True,\n",
    ")\n",
    "\n",
    "trainer = Trainer(\n",
    "    model=model,\n",
    "    args=args,\n",
    "    train_dataset=data_tokenized[\"train\"],\n",
    "    eval_dataset=data_tokenized[\"val\"],\n",
    "    data_collator=data_collator,\n",
    "    compute_metrics=compute_metrics,\n",
    "    processing_class=tokenizer,\n",
    ")"
   ]
  },
  {
   "cell_type": "markdown",
   "metadata": {},
   "source": [
    "### Training loop"
   ]
  },
  {
   "cell_type": "code",
   "execution_count": 34,
   "metadata": {},
   "outputs": [
    {
     "data": {
      "application/vnd.jupyter.widget-view+json": {
       "model_id": "7cf9cd94c74e4229a9dc4dec511d321e",
       "version_major": 2,
       "version_minor": 0
      },
      "text/plain": [
       "  0%|          | 0/747 [00:00<?, ?it/s]"
      ]
     },
     "metadata": {},
     "output_type": "display_data"
    },
    {
     "name": "stdout",
     "output_type": "stream",
     "text": [
      "{'eval_loss': 0.21270084381103516, 'eval_precision': 0.499194847020934, 'eval_recall': 0.6378600823045267, 'eval_f1': 0.5600722673893406, 'eval_accuracy': 0.9467969124765601, 'eval_runtime': 11.5379, 'eval_samples_per_second': 73.67, 'eval_steps_per_second': 9.274, 'epoch': 1.0}\n"
     ]
    },
    {
     "data": {
      "application/vnd.jupyter.widget-view+json": {
       "model_id": "2a5491db35c548f78875251f847a333d",
       "version_major": 2,
       "version_minor": 0
      },
      "text/plain": [
       "  0%|          | 0/107 [00:00<?, ?it/s]"
      ]
     },
     "metadata": {},
     "output_type": "display_data"
    },
    {
     "name": "stdout",
     "output_type": "stream",
     "text": [
      "{'eval_loss': 0.2322877198457718, 'eval_precision': 0.5253968253968254, 'eval_recall': 0.6810699588477366, 'eval_f1': 0.5931899641577061, 'eval_accuracy': 0.9476690942392395, 'eval_runtime': 12.3934, 'eval_samples_per_second': 68.585, 'eval_steps_per_second': 8.634, 'epoch': 2.0}\n",
      "{'loss': 0.0737, 'grad_norm': 0.9115849137306213, 'learning_rate': 6.6131191432396255e-06, 'epoch': 2.01}\n"
     ]
    },
    {
     "data": {
      "application/vnd.jupyter.widget-view+json": {
       "model_id": "c6ab13d93acd4854b82b6ba809c29b1f",
       "version_major": 2,
       "version_minor": 0
      },
      "text/plain": [
       "  0%|          | 0/107 [00:00<?, ?it/s]"
      ]
     },
     "metadata": {},
     "output_type": "display_data"
    },
    {
     "name": "stdout",
     "output_type": "stream",
     "text": [
      "{'eval_loss': 0.2524833381175995, 'eval_precision': 0.5037537537537538, 'eval_recall': 0.6903292181069959, 'eval_f1': 0.5824652777777778, 'eval_accuracy': 0.9453142034800053, 'eval_runtime': 11.5912, 'eval_samples_per_second': 73.331, 'eval_steps_per_second': 9.231, 'epoch': 3.0}\n",
      "{'train_runtime': 626.9456, 'train_samples_per_second': 9.532, 'train_steps_per_second': 1.191, 'train_loss': 0.06035551584389315, 'epoch': 3.0}\n"
     ]
    },
    {
     "data": {
      "application/vnd.jupyter.widget-view+json": {
       "model_id": "62c5bf3c2fdd433a9c0a953c067cf3b2",
       "version_major": 2,
       "version_minor": 0
      },
      "text/plain": [
       "events.out.tfevents.1730815554.Jans-MacBook-Pro-2.local.3581.0:   0%|          | 0.00/12.9k [00:00<?, ?B/s]"
      ]
     },
     "metadata": {},
     "output_type": "display_data"
    },
    {
     "data": {
      "text/plain": [
       "CommitInfo(commit_url='https://huggingface.co/janzuromski/bert-finetuned-archeology/commit/1656eb825c37e4fc19604b11d726843bb4799f6c', commit_message='Training complete', commit_description='', oid='1656eb825c37e4fc19604b11d726843bb4799f6c', pr_url=None, repo_url=RepoUrl('https://huggingface.co/janzuromski/bert-finetuned-archeology', endpoint='https://huggingface.co', repo_type='model', repo_id='janzuromski/bert-finetuned-archeology'), pr_revision=None, pr_num=None)"
      ]
     },
     "execution_count": 34,
     "metadata": {},
     "output_type": "execute_result"
    }
   ],
   "source": [
    "trainer.train()\n",
    "trainer.push_to_hub(commit_message=\"Training complete\")"
   ]
  },
  {
   "cell_type": "code",
   "execution_count": null,
   "metadata": {},
   "outputs": [],
   "source": []
  },
  {
   "cell_type": "markdown",
   "metadata": {},
   "source": [
    "## Custom model model fine-tuning"
   ]
  },
  {
   "cell_type": "code",
   "execution_count": 24,
   "metadata": {},
   "outputs": [
    {
     "name": "stderr",
     "output_type": "stream",
     "text": [
      "Some weights of BertForTokenClassification were not initialized from the model checkpoint at bert-base-cased and are newly initialized: ['classifier.bias', 'classifier.weight']\n",
      "You should probably TRAIN this model on a down-stream task to be able to use it for predictions and inference.\n"
     ]
    }
   ],
   "source": [
    "model_checkpoint = 'bert-base-cased'\n",
    "data_collator = DataCollatorForTokenClassification(tokenizer)\n",
    "metric = evaluate.load('seqeval')\n",
    "model = AutoModelForTokenClassification.from_pretrained(\n",
    "    model_checkpoint, id2label=id2label, label2id=label2id\n",
    ")\n",
    "optimizer = AdamW(model.parameters(), lr=2e-5)"
   ]
  },
  {
   "cell_type": "code",
   "execution_count": 25,
   "metadata": {},
   "outputs": [],
   "source": [
    "train_dataloader = DataLoader(\n",
    "    data_tokenized['train'],\n",
    "    shuffle=True,\n",
    "    collate_fn=data_collator,\n",
    "    batch_size=8,\n",
    ")\n",
    "\n",
    "eval_dataloader = DataLoader(\n",
    "    data_tokenized['val'],\n",
    "    collate_fn=data_collator,\n",
    "    batch_size=8,\n",
    ")"
   ]
  },
  {
   "cell_type": "code",
   "execution_count": 26,
   "metadata": {},
   "outputs": [],
   "source": [
    "accelerator = Accelerator()\n",
    "model, optimizer, train_dataloader, eval_dataloader = accelerator.prepare(\n",
    "    model, optimizer, train_dataloader, eval_dataloader\n",
    ")"
   ]
  },
  {
   "cell_type": "code",
   "execution_count": 27,
   "metadata": {},
   "outputs": [],
   "source": [
    "num_train_epochs = 3\n",
    "num_update_steps_per_epoch = len(train_dataloader)\n",
    "num_training_steps = num_train_epochs * num_update_steps_per_epoch\n",
    "\n",
    "lr_scheduler = get_scheduler(\n",
    "    'linear',\n",
    "    optimizer=optimizer,\n",
    "    num_warmup_steps=0,\n",
    "    num_training_steps=num_training_steps\n",
    ")"
   ]
  },
  {
   "cell_type": "code",
   "execution_count": null,
   "metadata": {},
   "outputs": [],
   "source": [
    "model_name = \"bert-finetuned-archeology-custom\"\n",
    "output_dir = model_name\n",
    "repo_name = get_full_repo_name(model_name)\n",
    "repo = Repository(output_dir, clone_from=repo_name)\n",
    "repo_name"
   ]
  },
  {
   "cell_type": "code",
   "execution_count": null,
   "metadata": {},
   "outputs": [
    {
     "data": {
      "application/vnd.jupyter.widget-view+json": {
       "model_id": "3d5df4ea459e440e89efc9758158a760",
       "version_major": 2,
       "version_minor": 0
      },
      "text/plain": [
       "  0%|          | 0/747 [00:00<?, ?it/s]"
      ]
     },
     "metadata": {},
     "output_type": "display_data"
    }
   ],
   "source": [
    "progress_bar = tqdm(range(num_training_steps))\n",
    "all_results = {}\n",
    "\n",
    "for epoch in range(num_train_epochs):\n",
    "    model.train()\n",
    "    for batch in train_dataloader:\n",
    "        outputs = model(**batch)\n",
    "        loss = outputs.loss\n",
    "        loss.backward()\n",
    "        optimizer.step()\n",
    "        lr_scheduler.step()\n",
    "        optimizer.zero_grad()\n",
    "        progress_bar.update(1)\n",
    "\n",
    "    model.eval()\n",
    "    for batch in eval_dataloader:\n",
    "        with torch.no_grad():\n",
    "            outputs = model(**batch)\n",
    "        \n",
    "        predictions = outputs.logits.argmax(dim=-1)\n",
    "        labels = batch['labels']\n",
    "        predictions_padded = accelerator.pad_across_processes(predictions, \n",
    "                                                              dim=1, \n",
    "                                                              pad_index=-100)\n",
    "        labels_padded = accelerator.pad_across_processes(labels, \n",
    "                                                         dim=1, \n",
    "                                                         pad_index=-100)\n",
    "        predictions_gathered = accelerator.gather(predictions_padded)\n",
    "        labels_gathered = accelerator.gather(labels_padded)\n",
    "\n",
    "        true_predictions, true_labels = postprocess(predictions_gathered,\n",
    "                                                    labels_gathered)\n",
    "\n",
    "        metric.add_batch(predictions=true_predictions, references=true_labels)\n",
    "    all_results[epoch] = metric.compute()\n",
    "    print(\n",
    "        f\"epoch {epoch}:\",\n",
    "        {\n",
    "            key: all_results[epoch][f\"overall_{key}\"]\n",
    "            for key in [\"precision\", \"recall\", \"f1\", \"accuracy\"]\n",
    "        },\n",
    "    )\n",
    "\n",
    "    accelerator.wait_for_everyone()\n",
    "    unwrapped_model = accelerator.unwrap_model(model)\n",
    "    unwrapped_model.save_pretrained(output_dir, save_function=accelerator.save)\n",
    "    if accelerator.is_main_process:\n",
    "        tokenizer.save_pretrained(output_dir)\n",
    "        repo.push_to_hub(\n",
    "            commit_message=f\"Training in progress epoch {epoch}\", blocking=False)\n",
    "\n",
    "\n",
    "\n"
   ]
  },
  {
   "cell_type": "markdown",
   "metadata": {},
   "source": [
    "epoch 0: {'precision': 0.6460905349794238, \n",
    "          'recall': 0.4422535211267606, \n",
    "          'f1': 0.5250836120401338, \n",
    "          'accuracy': 0.9359382495312023}\n",
    "\n",
    "epoch 1: {'precision': 0.6995884773662552, \n",
    "          'recall': 0.45729657027572296, \n",
    "          'f1': 0.5530703538023588, \n",
    "          'accuracy': 0.937639003968427}\n",
    "\n",
    "epoch 2: {'precision': 0.6851851851851852, \n",
    "          'recall': 0.4915129151291513, \n",
    "          'f1': 0.5724108293940697, \n",
    "          'accuracy': 0.9438314944834504}\n"
   ]
  },
  {
   "cell_type": "markdown",
   "metadata": {},
   "source": [
    "## Evaluation"
   ]
  },
  {
   "cell_type": "markdown",
   "metadata": {},
   "source": [
    "### Initialization"
   ]
  },
  {
   "cell_type": "code",
   "execution_count": null,
   "metadata": {},
   "outputs": [],
   "source": [
    "# In case model was trained in another notebook execution\n",
    "model_name = 'bert-finetuned-archeology-custom'\n",
    "model = AutoModelForTokenClassification.from_pretrained(f'janzuromski/{model_name}')\n",
    "tokenizer = AutoTokenizer.from_pretrained(base_model_checkpoint)\n",
    "data_collator = DataCollatorForTokenClassification(tokenizer)\n",
    "metric = evaluate.load('seqeval')\n",
    "\n",
    "test_dataloader = DataLoader(\n",
    "    data_tokenized['test'],\n",
    "    collate_fn=data_collator,\n",
    "    batch_size=8\n",
    ")"
   ]
  },
  {
   "cell_type": "markdown",
   "metadata": {},
   "source": [
    "### Inference"
   ]
  },
  {
   "cell_type": "code",
   "execution_count": null,
   "metadata": {},
   "outputs": [
    {
     "data": {
      "application/vnd.jupyter.widget-view+json": {
       "model_id": "ba0d1018f4434108b9161be352bf35b3",
       "version_major": 2,
       "version_minor": 0
      },
      "text/plain": [
       "  0%|          | 0/108 [00:00<?, ?it/s]"
      ]
     },
     "metadata": {},
     "output_type": "display_data"
    }
   ],
   "source": [
    "progress_bar = tqdm(range(len(test_dataloader)))\n",
    "model.eval()\n",
    "model.to('mps')\n",
    "all_preds, all_labels = [], []\n",
    "for batch in test_dataloader:\n",
    "    batch.to('mps')\n",
    "    with torch.no_grad():\n",
    "        outputs = model(**batch)\n",
    "    \n",
    "    predictions = outputs.logits.argmax(dim=-1)\n",
    "    labels = batch['labels']\n",
    "    true_predictions, true_labels = postprocess(predictions, labels)\n",
    "    all_preds += true_predictions\n",
    "    all_labels += true_labels\n",
    "    progress_bar.update(1)"
   ]
  },
  {
   "cell_type": "code",
   "execution_count": 69,
   "metadata": {},
   "outputs": [],
   "source": [
    "preds_flat = [l for e in all_preds for l in e]\n",
    "labels_flat = [l for e in all_labels for l in e]\n",
    "report = classification_report(labels_flat, preds_flat, zero_division=0.0,\n",
    "                               output_dict=True)"
   ]
  },
  {
   "cell_type": "code",
   "execution_count": null,
   "metadata": {},
   "outputs": [],
   "source": []
  }
 ],
 "metadata": {
  "kernelspec": {
   "display_name": "base",
   "language": "python",
   "name": "python3"
  },
  "language_info": {
   "codemirror_mode": {
    "name": "ipython",
    "version": 3
   },
   "file_extension": ".py",
   "mimetype": "text/x-python",
   "name": "python",
   "nbconvert_exporter": "python",
   "pygments_lexer": "ipython3",
   "version": "3.12.4"
  }
 },
 "nbformat": 4,
 "nbformat_minor": 2
}
